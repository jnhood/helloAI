{
  "nbformat": 4,
  "nbformat_minor": 0,
  "metadata": {
    "colab": {
      "provenance": [],
      "include_colab_link": true
    },
    "kernelspec": {
      "name": "python3",
      "display_name": "Python 3"
    },
    "language_info": {
      "name": "python"
    },
    "accelerator": "GPU",
    "gpuClass": "standard"
  },
  "cells": [
    {
      "cell_type": "markdown",
      "metadata": {
        "id": "view-in-github",
        "colab_type": "text"
      },
      "source": [
        "<a href=\"https://colab.research.google.com/github/jnhood/helloAI/blob/main/gan_pytorch2.ipynb\" target=\"_parent\"><img src=\"https://colab.research.google.com/assets/colab-badge.svg\" alt=\"Open In Colab\"/></a>"
      ]
    },
    {
      "cell_type": "code",
      "source": [
        "# mount google drive here\n",
        "#!pip uninstall torch_xla\n",
        "!pip install -i \"https://pip.repos.neuron.amazonaws.com\" torch_xla"
      ],
      "metadata": {
        "id": "CHKHhVdCYLJx",
        "colab": {
          "base_uri": "https://localhost:8080/"
        },
        "outputId": "5af840d1-aefa-45b9-ed75-32c687bfdd37"
      },
      "execution_count": 2,
      "outputs": [
        {
          "output_type": "stream",
          "name": "stdout",
          "text": [
            "Looking in indexes: https://pip.repos.neuron.amazonaws.com, https://us-python.pkg.dev/colab-wheels/public/simple/\n",
            "Collecting torch_xla\n",
            "  Downloading https://pip.repos.neuron.amazonaws.com/torch-xla/torch_xla-1.13.0%2Btorchneuron5-cp39-cp39-linux_x86_64.whl (267.6 MB)\n",
            "\u001b[2K     \u001b[90m━━━━━━━━━━━━━━━━━━━━━━━━━━━━━━━━━━━━━━━\u001b[0m \u001b[32m267.6/267.6 MB\u001b[0m \u001b[31m4.3 MB/s\u001b[0m eta \u001b[36m0:00:00\u001b[0m\n",
            "\u001b[?25hRequirement already satisfied: pyyaml in /usr/local/lib/python3.9/dist-packages (from torch_xla) (6.0)\n",
            "  Downloading https://pip.repos.neuron.amazonaws.com/torch-xla/torch_xla-1.13.0%2Btorchneuron4-cp39-cp39-linux_x86_64.whl (266.3 MB)\n",
            "\u001b[2K     \u001b[90m━━━━━━━━━━━━━━━━━━━━━━━━━━━━━━━━━━━━━━━\u001b[0m \u001b[32m266.3/266.3 MB\u001b[0m \u001b[31m4.2 MB/s\u001b[0m eta \u001b[36m0:00:00\u001b[0m\n",
            "\u001b[?25h  Downloading https://pip.repos.neuron.amazonaws.com/torch-xla/torch_xla-1.13.0%2Btorchneuron3-cp39-cp39-linux_x86_64.whl (266.3 MB)\n",
            "\u001b[2K     \u001b[90m━━━━━━━━━━━━━━━━━━━━━━━━━━━━━━━━━━━━━━━\u001b[0m \u001b[32m266.3/266.3 MB\u001b[0m \u001b[31m4.7 MB/s\u001b[0m eta \u001b[36m0:00:00\u001b[0m\n",
            "\u001b[?25h  Downloading https://pip.repos.neuron.amazonaws.com/torch-xla/torch_xla-1.12.0%2Btorchneuron3-cp39-cp39-linux_x86_64.whl (254.8 MB)\n",
            "\u001b[2K     \u001b[90m━━━━━━━━━━━━━━━━━━━━━━━━━━━━━━━━━━━━━━━\u001b[0m \u001b[32m254.8/254.8 MB\u001b[0m \u001b[31m4.5 MB/s\u001b[0m eta \u001b[36m0:00:00\u001b[0m\n",
            "\u001b[?25h\u001b[31mERROR: Cannot install torch-xla==1.12.0+torchneuron3, torch-xla==1.13.0+torchneuron3, torch-xla==1.13.0+torchneuron4 and torch-xla==1.13.0+torchneuron5 because these package versions have conflicting dependencies.\u001b[0m\u001b[31m\n",
            "\u001b[0m\n",
            "The conflict is caused by:\n",
            "    torch-xla 1.13.0+torchneuron5 depends on cloud-tpu-client>=0.10.0\n",
            "    torch-xla 1.13.0+torchneuron4 depends on cloud-tpu-client>=0.10.0\n",
            "    torch-xla 1.13.0+torchneuron3 depends on cloud-tpu-client>=0.10.0\n",
            "    torch-xla 1.12.0+torchneuron3 depends on cloud-tpu-client>=0.10.0\n",
            "\n",
            "To fix this you could try to:\n",
            "1. loosen the range of package versions you've specified\n",
            "2. remove package versions to allow pip attempt to solve the dependency conflict\n",
            "\n",
            "\u001b[31mERROR: ResolutionImpossible: for help visit https://pip.pypa.io/en/latest/topics/dependency-resolution/#dealing-with-dependency-conflicts\u001b[0m\u001b[31m\n",
            "\u001b[0m"
          ]
        }
      ]
    },
    {
      "cell_type": "code",
      "source": [
        "# create and train a pytorch digit classifier\n",
        "# source: chatgpt with the prompt \"create a pytorch mnist digit classifier\"\n",
        "import torch\n",
        "import torch.nn as nn\n",
        "import torch.optim as optim\n",
        "from torchvision import datasets, transforms\n",
        "\n",
        "# Set a flag to indicate whether we are (re)-training the model\n",
        "# or loading an already trained model\n",
        "PATH = \"/content/drive/MyDrive/models/classifier.pt\"\n",
        "loadmodel = False\n",
        "\n",
        "# Set device to either CUDA or CPU\n",
        "device = torch.device(\"cuda\" if torch.cuda.is_available() else \"cpu\")\n",
        "\n",
        "# Define the neural network architecture\n",
        "class Net(nn.Module):\n",
        "    def __init__(self):\n",
        "        super(Net, self).__init__()\n",
        "        self.conv1 = nn.Conv2d(1, 10, kernel_size=5)\n",
        "        self.conv2 = nn.Conv2d(10, 20, kernel_size=5)\n",
        "        self.dropout = nn.Dropout2d()\n",
        "        self.fc1 = nn.Linear(320, 50)\n",
        "        self.fc2 = nn.Linear(50, 10)\n",
        "\n",
        "    def forward(self, x):\n",
        "        x = nn.functional.relu(nn.functional.max_pool2d(self.conv1(x), 2))\n",
        "        x = nn.functional.relu(nn.functional.max_pool2d(self.dropout(self.conv2(x)), 2))\n",
        "        x = x.view(-1, 320)\n",
        "        x = nn.functional.relu(self.fc1(x))\n",
        "        x = self.fc2(x)\n",
        "        return nn.functional.log_softmax(x, dim=1)\n",
        "\n",
        "if loadmodel:\n",
        "  model = Net()\n",
        "  model.load_state_dict(torch.load(PATH))\n",
        "  model = model.to(device)\n",
        "  model.eval()\n",
        "\n",
        "else:\n",
        "  # Create an instance of the model and send it to the device\n",
        "  model = Net().to(device)\n",
        "\n",
        "  # Load the MNIST dataset and apply transformations\n",
        "  transform = transforms.Compose([\n",
        "      transforms.ToTensor(),\n",
        "      transforms.Normalize((0.1307,), (0.3081,))\n",
        "  ])\n",
        "\n",
        "  train_set = datasets.MNIST('../data', train=True, download=True, transform=transform)\n",
        "  test_set = datasets.MNIST('../data', train=False, download=True, transform=transform)\n",
        "\n",
        "  # Set batch size and create data loaders\n",
        "  batch_size = 64\n",
        "\n",
        "  train_loader = torch.utils.data.DataLoader(train_set, batch_size=batch_size, shuffle=True)\n",
        "  test_loader = torch.utils.data.DataLoader(test_set, batch_size=batch_size, shuffle=False)\n",
        "\n",
        "\n",
        "  # Define the optimizer and loss function\n",
        "  optimizer = optim.SGD(model.parameters(), lr=0.01, momentum=0.5)\n",
        "  criterion = nn.CrossEntropyLoss()\n",
        "\n",
        "  # Train the model\n",
        "  num_epochs = 10\n",
        "\n",
        "  for epoch in range(num_epochs):\n",
        "      model.train()\n",
        "      for batch_idx, (data, target) in enumerate(train_loader):\n",
        "          data, target = data.to(device), target.to(device)\n",
        "          optimizer.zero_grad()\n",
        "          output = model(data)\n",
        "          loss = criterion(output, target)\n",
        "          loss.backward()\n",
        "          optimizer.step()\n",
        "          if batch_idx % 100 == 0:\n",
        "              print('Train Epoch: {} [{}/{} ({:.0f}%)]\\tLoss: {:.6f}'.format(\n",
        "                  epoch, batch_idx * len(data), len(train_loader.dataset),\n",
        "                  100. * batch_idx / len(train_loader), loss.item()))\n",
        "\n",
        "      model.eval()\n",
        "      test_loss = 0\n",
        "      correct = 0\n",
        "      with torch.no_grad():\n",
        "          for data, target in test_loader:\n",
        "              data, target = data.to(device), target.to(device)\n",
        "              output = model(data)\n",
        "              test_loss += criterion(output, target).item()\n",
        "              pred = output.argmax(dim=1, keepdim=True)\n",
        "              correct += pred.eq(target.view_as(pred)).sum().item()\n",
        "\n",
        "      test_loss /= len(test_loader.dataset)\n",
        "      print('Test set: Average loss: {:.4f}, Accuracy: {}/{} ({:.0f}%)\\n'.format(\n",
        "          test_loss, correct, len(test_loader.dataset),\n",
        "          100. * correct / len(test_loader.dataset)))    \n",
        "  torch.save(model.state_dict(), PATH)\n"
      ],
      "metadata": {
        "colab": {
          "base_uri": "https://localhost:8080/",
          "height": 1000
        },
        "id": "6C-O5N3PkmNs",
        "outputId": "25954c66-6321-4260-e361-763afd9f88ad"
      },
      "execution_count": 1,
      "outputs": [
        {
          "output_type": "stream",
          "name": "stdout",
          "text": [
            "Downloading http://yann.lecun.com/exdb/mnist/train-images-idx3-ubyte.gz\n",
            "Downloading http://yann.lecun.com/exdb/mnist/train-images-idx3-ubyte.gz to ../data/MNIST/raw/train-images-idx3-ubyte.gz\n"
          ]
        },
        {
          "output_type": "stream",
          "name": "stderr",
          "text": [
            "100%|██████████| 9912422/9912422 [00:00<00:00, 379357737.53it/s]"
          ]
        },
        {
          "output_type": "stream",
          "name": "stdout",
          "text": [
            "Extracting ../data/MNIST/raw/train-images-idx3-ubyte.gz to ../data/MNIST/raw\n"
          ]
        },
        {
          "output_type": "stream",
          "name": "stderr",
          "text": [
            "\n"
          ]
        },
        {
          "output_type": "stream",
          "name": "stdout",
          "text": [
            "\n",
            "Downloading http://yann.lecun.com/exdb/mnist/train-labels-idx1-ubyte.gz\n",
            "Downloading http://yann.lecun.com/exdb/mnist/train-labels-idx1-ubyte.gz to ../data/MNIST/raw/train-labels-idx1-ubyte.gz\n"
          ]
        },
        {
          "output_type": "stream",
          "name": "stderr",
          "text": [
            "100%|██████████| 28881/28881 [00:00<00:00, 108544528.52it/s]\n"
          ]
        },
        {
          "output_type": "stream",
          "name": "stdout",
          "text": [
            "Extracting ../data/MNIST/raw/train-labels-idx1-ubyte.gz to ../data/MNIST/raw\n",
            "\n",
            "Downloading http://yann.lecun.com/exdb/mnist/t10k-images-idx3-ubyte.gz\n",
            "Downloading http://yann.lecun.com/exdb/mnist/t10k-images-idx3-ubyte.gz to ../data/MNIST/raw/t10k-images-idx3-ubyte.gz\n"
          ]
        },
        {
          "output_type": "stream",
          "name": "stderr",
          "text": [
            "100%|██████████| 1648877/1648877 [00:00<00:00, 186482537.79it/s]"
          ]
        },
        {
          "output_type": "stream",
          "name": "stdout",
          "text": [
            "Extracting ../data/MNIST/raw/t10k-images-idx3-ubyte.gz to ../data/MNIST/raw\n",
            "\n",
            "Downloading http://yann.lecun.com/exdb/mnist/t10k-labels-idx1-ubyte.gz\n"
          ]
        },
        {
          "output_type": "stream",
          "name": "stderr",
          "text": [
            "\n"
          ]
        },
        {
          "output_type": "stream",
          "name": "stdout",
          "text": [
            "Downloading http://yann.lecun.com/exdb/mnist/t10k-labels-idx1-ubyte.gz to ../data/MNIST/raw/t10k-labels-idx1-ubyte.gz\n"
          ]
        },
        {
          "output_type": "stream",
          "name": "stderr",
          "text": [
            "100%|██████████| 4542/4542 [00:00<00:00, 13003773.90it/s]\n"
          ]
        },
        {
          "output_type": "stream",
          "name": "stdout",
          "text": [
            "Extracting ../data/MNIST/raw/t10k-labels-idx1-ubyte.gz to ../data/MNIST/raw\n",
            "\n",
            "Train Epoch: 0 [0/60000 (0%)]\tLoss: 2.263202\n",
            "Train Epoch: 0 [6400/60000 (11%)]\tLoss: 1.242186\n",
            "Train Epoch: 0 [12800/60000 (21%)]\tLoss: 0.809583\n",
            "Train Epoch: 0 [19200/60000 (32%)]\tLoss: 0.443325\n",
            "Train Epoch: 0 [25600/60000 (43%)]\tLoss: 0.507417\n",
            "Train Epoch: 0 [32000/60000 (53%)]\tLoss: 0.312549\n",
            "Train Epoch: 0 [38400/60000 (64%)]\tLoss: 0.267609\n",
            "Train Epoch: 0 [44800/60000 (75%)]\tLoss: 0.283449\n",
            "Train Epoch: 0 [51200/60000 (85%)]\tLoss: 0.249202\n",
            "Train Epoch: 0 [57600/60000 (96%)]\tLoss: 0.274998\n",
            "Test set: Average loss: 0.0025, Accuracy: 9518/10000 (95%)\n",
            "\n",
            "Train Epoch: 1 [0/60000 (0%)]\tLoss: 0.285510\n",
            "Train Epoch: 1 [6400/60000 (11%)]\tLoss: 0.151939\n",
            "Train Epoch: 1 [12800/60000 (21%)]\tLoss: 0.109787\n",
            "Train Epoch: 1 [19200/60000 (32%)]\tLoss: 0.136439\n",
            "Train Epoch: 1 [25600/60000 (43%)]\tLoss: 0.210644\n",
            "Train Epoch: 1 [32000/60000 (53%)]\tLoss: 0.321214\n",
            "Train Epoch: 1 [38400/60000 (64%)]\tLoss: 0.179676\n",
            "Train Epoch: 1 [44800/60000 (75%)]\tLoss: 0.138230\n",
            "Train Epoch: 1 [51200/60000 (85%)]\tLoss: 0.188905\n",
            "Train Epoch: 1 [57600/60000 (96%)]\tLoss: 0.150562\n",
            "Test set: Average loss: 0.0016, Accuracy: 9700/10000 (97%)\n",
            "\n",
            "Train Epoch: 2 [0/60000 (0%)]\tLoss: 0.159832\n",
            "Train Epoch: 2 [6400/60000 (11%)]\tLoss: 0.160411\n",
            "Train Epoch: 2 [12800/60000 (21%)]\tLoss: 0.203530\n",
            "Train Epoch: 2 [19200/60000 (32%)]\tLoss: 0.260911\n",
            "Train Epoch: 2 [25600/60000 (43%)]\tLoss: 0.123505\n",
            "Train Epoch: 2 [32000/60000 (53%)]\tLoss: 0.195548\n",
            "Train Epoch: 2 [38400/60000 (64%)]\tLoss: 0.100177\n",
            "Train Epoch: 2 [44800/60000 (75%)]\tLoss: 0.042129\n",
            "Train Epoch: 2 [51200/60000 (85%)]\tLoss: 0.137884\n",
            "Train Epoch: 2 [57600/60000 (96%)]\tLoss: 0.225707\n",
            "Test set: Average loss: 0.0013, Accuracy: 9719/10000 (97%)\n",
            "\n",
            "Train Epoch: 3 [0/60000 (0%)]\tLoss: 0.073878\n",
            "Train Epoch: 3 [6400/60000 (11%)]\tLoss: 0.130829\n",
            "Train Epoch: 3 [12800/60000 (21%)]\tLoss: 0.124554\n",
            "Train Epoch: 3 [19200/60000 (32%)]\tLoss: 0.064754\n",
            "Train Epoch: 3 [25600/60000 (43%)]\tLoss: 0.277824\n",
            "Train Epoch: 3 [32000/60000 (53%)]\tLoss: 0.027904\n",
            "Train Epoch: 3 [38400/60000 (64%)]\tLoss: 0.127562\n",
            "Train Epoch: 3 [44800/60000 (75%)]\tLoss: 0.145792\n",
            "Train Epoch: 3 [51200/60000 (85%)]\tLoss: 0.113227\n",
            "Train Epoch: 3 [57600/60000 (96%)]\tLoss: 0.082360\n",
            "Test set: Average loss: 0.0011, Accuracy: 9784/10000 (98%)\n",
            "\n",
            "Train Epoch: 4 [0/60000 (0%)]\tLoss: 0.048079\n",
            "Train Epoch: 4 [6400/60000 (11%)]\tLoss: 0.092239\n",
            "Train Epoch: 4 [12800/60000 (21%)]\tLoss: 0.206480\n",
            "Train Epoch: 4 [19200/60000 (32%)]\tLoss: 0.218088\n",
            "Train Epoch: 4 [25600/60000 (43%)]\tLoss: 0.106480\n",
            "Train Epoch: 4 [32000/60000 (53%)]\tLoss: 0.273095\n",
            "Train Epoch: 4 [38400/60000 (64%)]\tLoss: 0.107683\n",
            "Train Epoch: 4 [44800/60000 (75%)]\tLoss: 0.121120\n",
            "Train Epoch: 4 [51200/60000 (85%)]\tLoss: 0.067428\n",
            "Train Epoch: 4 [57600/60000 (96%)]\tLoss: 0.256157\n",
            "Test set: Average loss: 0.0009, Accuracy: 9804/10000 (98%)\n",
            "\n",
            "Train Epoch: 5 [0/60000 (0%)]\tLoss: 0.128482\n",
            "Train Epoch: 5 [6400/60000 (11%)]\tLoss: 0.077025\n",
            "Train Epoch: 5 [12800/60000 (21%)]\tLoss: 0.429117\n",
            "Train Epoch: 5 [19200/60000 (32%)]\tLoss: 0.070056\n",
            "Train Epoch: 5 [25600/60000 (43%)]\tLoss: 0.048603\n",
            "Train Epoch: 5 [32000/60000 (53%)]\tLoss: 0.212003\n",
            "Train Epoch: 5 [38400/60000 (64%)]\tLoss: 0.049071\n",
            "Train Epoch: 5 [44800/60000 (75%)]\tLoss: 0.094396\n",
            "Train Epoch: 5 [51200/60000 (85%)]\tLoss: 0.109334\n",
            "Train Epoch: 5 [57600/60000 (96%)]\tLoss: 0.189335\n",
            "Test set: Average loss: 0.0008, Accuracy: 9822/10000 (98%)\n",
            "\n",
            "Train Epoch: 6 [0/60000 (0%)]\tLoss: 0.058057\n",
            "Train Epoch: 6 [6400/60000 (11%)]\tLoss: 0.027688\n",
            "Train Epoch: 6 [12800/60000 (21%)]\tLoss: 0.064946\n",
            "Train Epoch: 6 [19200/60000 (32%)]\tLoss: 0.074237\n",
            "Train Epoch: 6 [25600/60000 (43%)]\tLoss: 0.049057\n",
            "Train Epoch: 6 [32000/60000 (53%)]\tLoss: 0.062659\n",
            "Train Epoch: 6 [38400/60000 (64%)]\tLoss: 0.103939\n",
            "Train Epoch: 6 [44800/60000 (75%)]\tLoss: 0.032126\n",
            "Train Epoch: 6 [51200/60000 (85%)]\tLoss: 0.011318\n",
            "Train Epoch: 6 [57600/60000 (96%)]\tLoss: 0.107159\n",
            "Test set: Average loss: 0.0008, Accuracy: 9839/10000 (98%)\n",
            "\n",
            "Train Epoch: 7 [0/60000 (0%)]\tLoss: 0.046498\n",
            "Train Epoch: 7 [6400/60000 (11%)]\tLoss: 0.066290\n",
            "Train Epoch: 7 [12800/60000 (21%)]\tLoss: 0.137434\n",
            "Train Epoch: 7 [19200/60000 (32%)]\tLoss: 0.078559\n",
            "Train Epoch: 7 [25600/60000 (43%)]\tLoss: 0.046858\n",
            "Train Epoch: 7 [32000/60000 (53%)]\tLoss: 0.027852\n",
            "Train Epoch: 7 [38400/60000 (64%)]\tLoss: 0.091806\n",
            "Train Epoch: 7 [44800/60000 (75%)]\tLoss: 0.052146\n",
            "Train Epoch: 7 [51200/60000 (85%)]\tLoss: 0.049873\n",
            "Train Epoch: 7 [57600/60000 (96%)]\tLoss: 0.076565\n",
            "Test set: Average loss: 0.0008, Accuracy: 9844/10000 (98%)\n",
            "\n",
            "Train Epoch: 8 [0/60000 (0%)]\tLoss: 0.086636\n",
            "Train Epoch: 8 [6400/60000 (11%)]\tLoss: 0.023369\n",
            "Train Epoch: 8 [12800/60000 (21%)]\tLoss: 0.047078\n",
            "Train Epoch: 8 [19200/60000 (32%)]\tLoss: 0.040198\n",
            "Train Epoch: 8 [25600/60000 (43%)]\tLoss: 0.078125\n",
            "Train Epoch: 8 [32000/60000 (53%)]\tLoss: 0.023498\n",
            "Train Epoch: 8 [38400/60000 (64%)]\tLoss: 0.041205\n",
            "Train Epoch: 8 [44800/60000 (75%)]\tLoss: 0.070601\n",
            "Train Epoch: 8 [51200/60000 (85%)]\tLoss: 0.087132\n",
            "Train Epoch: 8 [57600/60000 (96%)]\tLoss: 0.114085\n",
            "Test set: Average loss: 0.0007, Accuracy: 9847/10000 (98%)\n",
            "\n",
            "Train Epoch: 9 [0/60000 (0%)]\tLoss: 0.032939\n",
            "Train Epoch: 9 [6400/60000 (11%)]\tLoss: 0.039074\n",
            "Train Epoch: 9 [12800/60000 (21%)]\tLoss: 0.270345\n",
            "Train Epoch: 9 [19200/60000 (32%)]\tLoss: 0.012340\n",
            "Train Epoch: 9 [25600/60000 (43%)]\tLoss: 0.045119\n",
            "Train Epoch: 9 [32000/60000 (53%)]\tLoss: 0.117945\n",
            "Train Epoch: 9 [38400/60000 (64%)]\tLoss: 0.055629\n",
            "Train Epoch: 9 [44800/60000 (75%)]\tLoss: 0.037880\n",
            "Train Epoch: 9 [51200/60000 (85%)]\tLoss: 0.034492\n",
            "Train Epoch: 9 [57600/60000 (96%)]\tLoss: 0.051906\n",
            "Test set: Average loss: 0.0007, Accuracy: 9858/10000 (99%)\n",
            "\n"
          ]
        },
        {
          "output_type": "error",
          "ename": "RuntimeError",
          "evalue": "ignored",
          "traceback": [
            "\u001b[0;31m---------------------------------------------------------------------------\u001b[0m",
            "\u001b[0;31mRuntimeError\u001b[0m                              Traceback (most recent call last)",
            "\u001b[0;32m<ipython-input-1-c351e0776969>\u001b[0m in \u001b[0;36m<cell line: 34>\u001b[0;34m()\u001b[0m\n\u001b[1;32m     94\u001b[0m           \u001b[0mtest_loss\u001b[0m\u001b[0;34m,\u001b[0m \u001b[0mcorrect\u001b[0m\u001b[0;34m,\u001b[0m \u001b[0mlen\u001b[0m\u001b[0;34m(\u001b[0m\u001b[0mtest_loader\u001b[0m\u001b[0;34m.\u001b[0m\u001b[0mdataset\u001b[0m\u001b[0;34m)\u001b[0m\u001b[0;34m,\u001b[0m\u001b[0;34m\u001b[0m\u001b[0;34m\u001b[0m\u001b[0m\n\u001b[1;32m     95\u001b[0m           100. * correct / len(test_loader.dataset)))    \n\u001b[0;32m---> 96\u001b[0;31m   \u001b[0mtorch\u001b[0m\u001b[0;34m.\u001b[0m\u001b[0msave\u001b[0m\u001b[0;34m(\u001b[0m\u001b[0mmodel\u001b[0m\u001b[0;34m.\u001b[0m\u001b[0mstate_dict\u001b[0m\u001b[0;34m(\u001b[0m\u001b[0;34m)\u001b[0m\u001b[0;34m,\u001b[0m \u001b[0mPATH\u001b[0m\u001b[0;34m)\u001b[0m\u001b[0;34m\u001b[0m\u001b[0;34m\u001b[0m\u001b[0m\n\u001b[0m",
            "\u001b[0;32m/usr/local/lib/python3.9/dist-packages/torch/serialization.py\u001b[0m in \u001b[0;36msave\u001b[0;34m(obj, f, pickle_module, pickle_protocol, _use_new_zipfile_serialization)\u001b[0m\n\u001b[1;32m    438\u001b[0m \u001b[0;34m\u001b[0m\u001b[0m\n\u001b[1;32m    439\u001b[0m     \u001b[0;32mif\u001b[0m \u001b[0m_use_new_zipfile_serialization\u001b[0m\u001b[0;34m:\u001b[0m\u001b[0;34m\u001b[0m\u001b[0;34m\u001b[0m\u001b[0m\n\u001b[0;32m--> 440\u001b[0;31m         \u001b[0;32mwith\u001b[0m \u001b[0m_open_zipfile_writer\u001b[0m\u001b[0;34m(\u001b[0m\u001b[0mf\u001b[0m\u001b[0;34m)\u001b[0m \u001b[0;32mas\u001b[0m \u001b[0mopened_zipfile\u001b[0m\u001b[0;34m:\u001b[0m\u001b[0;34m\u001b[0m\u001b[0;34m\u001b[0m\u001b[0m\n\u001b[0m\u001b[1;32m    441\u001b[0m             \u001b[0m_save\u001b[0m\u001b[0;34m(\u001b[0m\u001b[0mobj\u001b[0m\u001b[0;34m,\u001b[0m \u001b[0mopened_zipfile\u001b[0m\u001b[0;34m,\u001b[0m \u001b[0mpickle_module\u001b[0m\u001b[0;34m,\u001b[0m \u001b[0mpickle_protocol\u001b[0m\u001b[0;34m)\u001b[0m\u001b[0;34m\u001b[0m\u001b[0;34m\u001b[0m\u001b[0m\n\u001b[1;32m    442\u001b[0m             \u001b[0;32mreturn\u001b[0m\u001b[0;34m\u001b[0m\u001b[0;34m\u001b[0m\u001b[0m\n",
            "\u001b[0;32m/usr/local/lib/python3.9/dist-packages/torch/serialization.py\u001b[0m in \u001b[0;36m_open_zipfile_writer\u001b[0;34m(name_or_buffer)\u001b[0m\n\u001b[1;32m    313\u001b[0m     \u001b[0;32melse\u001b[0m\u001b[0;34m:\u001b[0m\u001b[0;34m\u001b[0m\u001b[0;34m\u001b[0m\u001b[0m\n\u001b[1;32m    314\u001b[0m         \u001b[0mcontainer\u001b[0m \u001b[0;34m=\u001b[0m \u001b[0m_open_zipfile_writer_buffer\u001b[0m\u001b[0;34m\u001b[0m\u001b[0;34m\u001b[0m\u001b[0m\n\u001b[0;32m--> 315\u001b[0;31m     \u001b[0;32mreturn\u001b[0m \u001b[0mcontainer\u001b[0m\u001b[0;34m(\u001b[0m\u001b[0mname_or_buffer\u001b[0m\u001b[0;34m)\u001b[0m\u001b[0;34m\u001b[0m\u001b[0;34m\u001b[0m\u001b[0m\n\u001b[0m\u001b[1;32m    316\u001b[0m \u001b[0;34m\u001b[0m\u001b[0m\n\u001b[1;32m    317\u001b[0m \u001b[0;34m\u001b[0m\u001b[0m\n",
            "\u001b[0;32m/usr/local/lib/python3.9/dist-packages/torch/serialization.py\u001b[0m in \u001b[0;36m__init__\u001b[0;34m(self, name)\u001b[0m\n\u001b[1;32m    286\u001b[0m \u001b[0;32mclass\u001b[0m \u001b[0m_open_zipfile_writer_file\u001b[0m\u001b[0;34m(\u001b[0m\u001b[0m_opener\u001b[0m\u001b[0;34m)\u001b[0m\u001b[0;34m:\u001b[0m\u001b[0;34m\u001b[0m\u001b[0;34m\u001b[0m\u001b[0m\n\u001b[1;32m    287\u001b[0m     \u001b[0;32mdef\u001b[0m \u001b[0m__init__\u001b[0m\u001b[0;34m(\u001b[0m\u001b[0mself\u001b[0m\u001b[0;34m,\u001b[0m \u001b[0mname\u001b[0m\u001b[0;34m)\u001b[0m \u001b[0;34m->\u001b[0m \u001b[0;32mNone\u001b[0m\u001b[0;34m:\u001b[0m\u001b[0;34m\u001b[0m\u001b[0;34m\u001b[0m\u001b[0m\n\u001b[0;32m--> 288\u001b[0;31m         \u001b[0msuper\u001b[0m\u001b[0;34m(\u001b[0m\u001b[0;34m)\u001b[0m\u001b[0;34m.\u001b[0m\u001b[0m__init__\u001b[0m\u001b[0;34m(\u001b[0m\u001b[0mtorch\u001b[0m\u001b[0;34m.\u001b[0m\u001b[0m_C\u001b[0m\u001b[0;34m.\u001b[0m\u001b[0mPyTorchFileWriter\u001b[0m\u001b[0;34m(\u001b[0m\u001b[0mstr\u001b[0m\u001b[0;34m(\u001b[0m\u001b[0mname\u001b[0m\u001b[0;34m)\u001b[0m\u001b[0;34m)\u001b[0m\u001b[0;34m)\u001b[0m\u001b[0;34m\u001b[0m\u001b[0;34m\u001b[0m\u001b[0m\n\u001b[0m\u001b[1;32m    289\u001b[0m \u001b[0;34m\u001b[0m\u001b[0m\n\u001b[1;32m    290\u001b[0m     \u001b[0;32mdef\u001b[0m \u001b[0m__exit__\u001b[0m\u001b[0;34m(\u001b[0m\u001b[0mself\u001b[0m\u001b[0;34m,\u001b[0m \u001b[0;34m*\u001b[0m\u001b[0margs\u001b[0m\u001b[0;34m)\u001b[0m \u001b[0;34m->\u001b[0m \u001b[0;32mNone\u001b[0m\u001b[0;34m:\u001b[0m\u001b[0;34m\u001b[0m\u001b[0;34m\u001b[0m\u001b[0m\n",
            "\u001b[0;31mRuntimeError\u001b[0m: Parent directory /content/drive/MyDrive/models does not exist."
          ]
        }
      ]
    },
    {
      "cell_type": "code",
      "execution_count": 2,
      "metadata": {
        "id": "IbfEWQ-Ft9S3",
        "colab": {
          "base_uri": "https://localhost:8080/",
          "height": 838
        },
        "outputId": "ef6214b1-f967-47a3-874c-6dce15bc45d1"
      },
      "outputs": [
        {
          "output_type": "stream",
          "name": "stdout",
          "text": [
            "Downloading http://yann.lecun.com/exdb/mnist/train-images-idx3-ubyte.gz\n",
            "Downloading http://yann.lecun.com/exdb/mnist/train-images-idx3-ubyte.gz to data/MNIST/raw/train-images-idx3-ubyte.gz\n"
          ]
        },
        {
          "output_type": "stream",
          "name": "stderr",
          "text": [
            "100%|██████████| 9912422/9912422 [00:00<00:00, 343956246.07it/s]"
          ]
        },
        {
          "output_type": "stream",
          "name": "stdout",
          "text": [
            "Extracting data/MNIST/raw/train-images-idx3-ubyte.gz to data/MNIST/raw\n"
          ]
        },
        {
          "output_type": "stream",
          "name": "stderr",
          "text": [
            "\n"
          ]
        },
        {
          "output_type": "stream",
          "name": "stdout",
          "text": [
            "\n",
            "Downloading http://yann.lecun.com/exdb/mnist/train-labels-idx1-ubyte.gz\n",
            "Downloading http://yann.lecun.com/exdb/mnist/train-labels-idx1-ubyte.gz to data/MNIST/raw/train-labels-idx1-ubyte.gz\n"
          ]
        },
        {
          "output_type": "stream",
          "name": "stderr",
          "text": [
            "100%|██████████| 28881/28881 [00:00<00:00, 102138021.77it/s]\n"
          ]
        },
        {
          "output_type": "stream",
          "name": "stdout",
          "text": [
            "Extracting data/MNIST/raw/train-labels-idx1-ubyte.gz to data/MNIST/raw\n",
            "\n",
            "Downloading http://yann.lecun.com/exdb/mnist/t10k-images-idx3-ubyte.gz\n",
            "Downloading http://yann.lecun.com/exdb/mnist/t10k-images-idx3-ubyte.gz to data/MNIST/raw/t10k-images-idx3-ubyte.gz\n"
          ]
        },
        {
          "output_type": "stream",
          "name": "stderr",
          "text": [
            "100%|██████████| 1648877/1648877 [00:00<00:00, 101774629.47it/s]\n"
          ]
        },
        {
          "output_type": "stream",
          "name": "stdout",
          "text": [
            "Extracting data/MNIST/raw/t10k-images-idx3-ubyte.gz to data/MNIST/raw\n",
            "\n",
            "Downloading http://yann.lecun.com/exdb/mnist/t10k-labels-idx1-ubyte.gz\n",
            "Downloading http://yann.lecun.com/exdb/mnist/t10k-labels-idx1-ubyte.gz to data/MNIST/raw/t10k-labels-idx1-ubyte.gz\n"
          ]
        },
        {
          "output_type": "stream",
          "name": "stderr",
          "text": [
            "100%|██████████| 4542/4542 [00:00<00:00, 19301447.59it/s]\n"
          ]
        },
        {
          "output_type": "stream",
          "name": "stdout",
          "text": [
            "Extracting data/MNIST/raw/t10k-labels-idx1-ubyte.gz to data/MNIST/raw\n",
            "\n",
            "Epoch [1/100] Batch [1/469] Discriminator Loss: 1.4143 Generator Loss: 0.7032\n",
            "Epoch [1/100] Batch [101/469] Discriminator Loss: 0.3320 Generator Loss: 1.7633\n",
            "Epoch [1/100] Batch [201/469] Discriminator Loss: 0.6210 Generator Loss: 1.9536\n",
            "Epoch [1/100] Batch [301/469] Discriminator Loss: 1.0394 Generator Loss: 1.0028\n",
            "Epoch [1/100] Batch [401/469] Discriminator Loss: 1.1193 Generator Loss: 0.6705\n"
          ]
        },
        {
          "output_type": "display_data",
          "data": {
            "text/plain": [
              "<Figure size 640x480 with 1 Axes>"
            ],
            "image/png": "[encoded data removed]"
          },
          "metadata": {}
        },
        {
          "output_type": "error",
          "ename": "AttributeError",
          "evalue": "ignored",
          "traceback": [
            "\u001b[0;31m---------------------------------------------------------------------------\u001b[0m",
            "\u001b[0;31mAttributeError\u001b[0m                            Traceback (most recent call last)",
            "\u001b[0;32m<ipython-input-2-13524b8b4db2>\u001b[0m in \u001b[0;36m<cell line: 80>\u001b[0;34m()\u001b[0m\n\u001b[1;32m    135\u001b[0m             \u001b[0mcounts\u001b[0m\u001b[0;34m[\u001b[0m\u001b[0mp\u001b[0m\u001b[0;34m]\u001b[0m \u001b[0;34m+=\u001b[0m \u001b[0;36m1\u001b[0m\u001b[0;34m\u001b[0m\u001b[0;34m\u001b[0m\u001b[0m\n\u001b[1;32m    136\u001b[0m \u001b[0;34m\u001b[0m\u001b[0m\n\u001b[0;32m--> 137\u001b[0;31m     \u001b[0mg_losses\u001b[0m\u001b[0;34m.\u001b[0m\u001b[0mappend\u001b[0m\u001b[0;34m(\u001b[0m\u001b[0mgenerator_loss\u001b[0m\u001b[0;34m.\u001b[0m\u001b[0mitme\u001b[0m\u001b[0;34m(\u001b[0m\u001b[0;34m)\u001b[0m\u001b[0;34m)\u001b[0m\u001b[0;34m\u001b[0m\u001b[0;34m\u001b[0m\u001b[0m\n\u001b[0m\u001b[1;32m    138\u001b[0m     \u001b[0md_losses\u001b[0m\u001b[0;34m.\u001b[0m\u001b[0mappend\u001b[0m\u001b[0;34m(\u001b[0m\u001b[0mdiscriminator_loss\u001b[0m\u001b[0;34m.\u001b[0m\u001b[0mitem\u001b[0m\u001b[0;34m(\u001b[0m\u001b[0;34m)\u001b[0m\u001b[0;34m)\u001b[0m\u001b[0;34m\u001b[0m\u001b[0;34m\u001b[0m\u001b[0m\n\u001b[1;32m    139\u001b[0m     \u001b[0mtime_epoch\u001b[0m \u001b[0;34m=\u001b[0m \u001b[0mtime\u001b[0m\u001b[0;34m.\u001b[0m\u001b[0mtime\u001b[0m\u001b[0;34m(\u001b[0m\u001b[0;34m)\u001b[0m \u001b[0;34m-\u001b[0m \u001b[0mstart\u001b[0m\u001b[0;34m\u001b[0m\u001b[0;34m\u001b[0m\u001b[0m\n",
            "\u001b[0;31mAttributeError\u001b[0m: 'Tensor' object has no attribute 'itme'"
          ]
        }
      ],
      "source": [
        "#OK now we have a good model for analyzing the output from our GAN\n",
        "import time\n",
        "import torch\n",
        "import torch.nn as nn\n",
        "import torch.optim as optim\n",
        "from torchvision import datasets, transforms\n",
        "from torchvision.utils import make_grid\n",
        "from torch.utils.data import DataLoader\n",
        "import matplotlib.pyplot as plt\n",
        "\n",
        "# Set random seed for reproducibility\n",
        "torch.manual_seed(42)\n",
        "\n",
        "class Generator(nn.Module):\n",
        "    def __init__(self):\n",
        "        super(Generator, self).__init__()\n",
        "\n",
        "        self.fc = nn.Linear(100, 7 * 7 * 128)\n",
        "        self.conv1 = nn.ConvTranspose2d(128, 64, kernel_size=4, stride=2, padding=1)\n",
        "        self.conv2 = nn.ConvTranspose2d(64, 1, kernel_size=4, stride=2, padding=1)\n",
        "\n",
        "        self.relu = nn.ReLU()\n",
        "        self.tanh = nn.Tanh()\n",
        "\n",
        "    def forward(self, x):\n",
        "        x = self.fc(x)\n",
        "        x = x.view(-1, 128, 7, 7)\n",
        "        x = self.relu(self.conv1(x))\n",
        "        x = self.tanh(self.conv2(x))\n",
        "        return x\n",
        "\n",
        "# Define the discriminator network\n",
        "class Discriminator(nn.Module):\n",
        "    def __init__(self):\n",
        "        super(Discriminator, self).__init__()\n",
        "\n",
        "        self.conv1 = nn.Conv2d(1, 64, kernel_size=4, stride=2, padding=1)\n",
        "        self.conv2 = nn.Conv2d(64, 128, kernel_size=4, stride=2, padding=1)\n",
        "        self.fc = nn.Linear(7 * 7 * 128, 1)\n",
        "\n",
        "        self.relu = nn.LeakyReLU(0.2)\n",
        "        self.sigmoid = nn.Sigmoid()\n",
        "\n",
        "    def forward(self, x):\n",
        "        x = self.relu(self.conv1(x))\n",
        "        x = self.relu(self.conv2(x))\n",
        "        x = x.view(-1, 7 * 7 * 128)\n",
        "        x = self.sigmoid(self.fc(x))\n",
        "        return x\n",
        "\n",
        "# Instantiate the generator and discriminator networks\n",
        "generator = Generator()\n",
        "discriminator = Discriminator()\n",
        "\n",
        "# Define the loss function and optimizer\n",
        "criterion = nn.BCELoss()\n",
        "generator_optimizer = optim.Adam(generator.parameters(), lr=0.0002, betas=(0.5, 0.999))\n",
        "discriminator_optimizer = optim.Adam(discriminator.parameters(), lr=0.0002, betas=(0.5, 0.999))\n",
        "\n",
        "# Load the dataset\n",
        "transform = transforms.Compose([\n",
        "    transforms.ToTensor(),\n",
        "    transforms.Normalize((0.5,), (0.5,))\n",
        "])\n",
        "dataset = datasets.MNIST('data', train=True, download=True, transform=transform)\n",
        "dataloader = DataLoader(dataset, batch_size=128, shuffle=True)\n",
        "\n",
        "# Define the number of epochs and the device to use\n",
        "num_epochs = 100\n",
        "device = torch.device('cuda')\n",
        "\n",
        "# Move the generator and discriminator networks to the device\n",
        "generator.to(device)\n",
        "discriminator.to(device)\n",
        "\n",
        "# Train the generator and discriminator networks\n",
        "time_total = 0\n",
        "d_losses = []\n",
        "g_losses = []\n",
        "for epoch in range(num_epochs):\n",
        "    time_epoch = 0\n",
        "    start = time.time()\n",
        "    for i, (real_images, _) in enumerate(dataloader):\n",
        "        batch_size = real_images.shape[0]\n",
        "        real_labels = torch.ones(batch_size, 1, device=device)\n",
        "        fake_labels = torch.zeros(batch_size, 1, device=device)\n",
        "\n",
        "        # Train the discriminator network\n",
        "        discriminator_optimizer.zero_grad()\n",
        "        real_images = real_images.to(device)\n",
        "        real_outputs = discriminator(real_images)\n",
        "        real_loss = criterion(real_outputs, real_labels)\n",
        "\n",
        "        noise = torch.randn(batch_size, 100, device=device)\n",
        "        fake_images = generator(noise)\n",
        "        fake_outputs = discriminator(fake_images.detach())\n",
        "        fake_loss = criterion(fake_outputs, fake_labels)\n",
        "\n",
        "        discriminator_loss = real_loss + fake_loss\n",
        "        discriminator_loss.backward()\n",
        "        discriminator_optimizer.step()\n",
        "\n",
        "        # Train the generator network\n",
        "        generator_optimizer.zero_grad()\n",
        "        noise = torch.randn(batch_size, 100, device=device)\n",
        "        fake_images = generator(noise)\n",
        "        fake_outputs = discriminator(fake_images)\n",
        "        generator_loss = criterion(fake_outputs, real_labels)\n",
        "        generator_loss.backward()\n",
        "        generator_optimizer.step()\n",
        "\n",
        "        # Print the loss statistics\n",
        "        if i % 100 == 0:\n",
        "            print(f'Epoch [{epoch+1}/{num_epochs}] Batch [{i+1}/{len(dataloader)}] '\n",
        "                  f'Discriminator Loss: {discriminator_loss.item():.4f} '\n",
        "                  f'Generator Loss: {generator_loss.item():.4f}')\n",
        "\n",
        "    # Generate 100 samples and count how many of each digit \n",
        "    with torch.no_grad():\n",
        "        # Define the fixed noise vector for generating samples\n",
        "        sample_noise = torch.randn(100, 100, device=device)\n",
        "        generated_images = generator(sample_noise)\n",
        "        generated_images = 0.5 * (generated_images + 1)\n",
        "        output = model(generated_images)\n",
        "        pred = output.argmax(dim=1, keepdim=True)\n",
        "        grid = make_grid(generated_images[:16].cpu(), nrow=8, pad_value=1)\n",
        "        plt.imshow(grid.permute(1, 2, 0))\n",
        "        plt.axis('off')\n",
        "        plt.title([int(pred[x]) for x in range(16)])\n",
        "        plt.show()\n",
        "        #print(torch.exp(output[0])) # torch.exp converts the output back into regular softmax probabilities (confidences)\n",
        "        avg_conf = torch.mean(torch.exp(output).max(dim=1).values)\n",
        "        counts = [0]*10\n",
        "        for p in pred:\n",
        "            counts[p] += 1\n",
        "\n",
        "    g_losses.append(generator_loss.itme())\n",
        "    d_losses.append(discriminator_loss.item())\n",
        "    time_epoch = time.time() - start\n",
        "    time_total += time_epoch\n",
        "    print(f\"average prediction confidence over 100 predictions: {avg_conf}\")\n",
        "    print(f\"prediction counts: {counts}\")\n",
        "    print(f\"epoch time: {time_epoch}, total time: {time_total}\")\n",
        "        \n",
        "\n"
      ]
    },
    {
      "cell_type": "code",
      "source": [
        "import matplotlib.pyplot as plt\n",
        "\n",
        "fig, ax = plt.figure(figsize=(10,5))\n",
        "ax.plot(g_losses)\n",
        "ax.plot(d_losses)\n",
        "plt.show()"
      ],
      "metadata": {
        "id": "GtOxAvQqT9g7",
        "colab": {
          "base_uri": "https://localhost:8080/",
          "height": 252
        },
        "outputId": "4f8d5c97-dd17-46ee-e78f-13da5c611230"
      },
      "execution_count": 3,
      "outputs": [
        {
          "output_type": "error",
          "ename": "TypeError",
          "evalue": "ignored",
          "traceback": [
            "\u001b[0;31m---------------------------------------------------------------------------\u001b[0m",
            "\u001b[0;31mTypeError\u001b[0m                                 Traceback (most recent call last)",
            "\u001b[0;32m<ipython-input-3-b121a484577a>\u001b[0m in \u001b[0;36m<cell line: 3>\u001b[0;34m()\u001b[0m\n\u001b[1;32m      1\u001b[0m \u001b[0;32mimport\u001b[0m \u001b[0mmatplotlib\u001b[0m\u001b[0;34m.\u001b[0m\u001b[0mpyplot\u001b[0m \u001b[0;32mas\u001b[0m \u001b[0mplt\u001b[0m\u001b[0;34m\u001b[0m\u001b[0;34m\u001b[0m\u001b[0m\n\u001b[1;32m      2\u001b[0m \u001b[0;34m\u001b[0m\u001b[0m\n\u001b[0;32m----> 3\u001b[0;31m \u001b[0mfig\u001b[0m\u001b[0;34m,\u001b[0m \u001b[0max\u001b[0m \u001b[0;34m=\u001b[0m \u001b[0mplt\u001b[0m\u001b[0;34m.\u001b[0m\u001b[0mfigure\u001b[0m\u001b[0;34m(\u001b[0m\u001b[0mfigsize\u001b[0m\u001b[0;34m=\u001b[0m\u001b[0;34m(\u001b[0m\u001b[0;36m10\u001b[0m\u001b[0;34m,\u001b[0m\u001b[0;36m5\u001b[0m\u001b[0;34m)\u001b[0m\u001b[0;34m)\u001b[0m\u001b[0;34m\u001b[0m\u001b[0;34m\u001b[0m\u001b[0m\n\u001b[0m\u001b[1;32m      4\u001b[0m \u001b[0max\u001b[0m\u001b[0;34m.\u001b[0m\u001b[0mplot\u001b[0m\u001b[0;34m(\u001b[0m\u001b[0mg_losses\u001b[0m\u001b[0;34m)\u001b[0m\u001b[0;34m\u001b[0m\u001b[0;34m\u001b[0m\u001b[0m\n\u001b[1;32m      5\u001b[0m \u001b[0max\u001b[0m\u001b[0;34m.\u001b[0m\u001b[0mplot\u001b[0m\u001b[0;34m(\u001b[0m\u001b[0md_losses\u001b[0m\u001b[0;34m)\u001b[0m\u001b[0;34m\u001b[0m\u001b[0;34m\u001b[0m\u001b[0m\n",
            "\u001b[0;31mTypeError\u001b[0m: cannot unpack non-iterable Figure object"
          ]
        },
        {
          "output_type": "display_data",
          "data": {
            "text/plain": [
              "<Figure size 1000x500 with 0 Axes>"
            ]
          },
          "metadata": {}
        }
      ]
    }
  ]
}