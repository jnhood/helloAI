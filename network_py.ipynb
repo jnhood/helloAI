{
  "nbformat": 4,
  "nbformat_minor": 0,
  "metadata": {
    "colab": {
      "provenance": [],
      "authorship_tag": "ABX9TyMv5NbutFdUmV18Lg5vIli4",
      "include_colab_link": true
    },
    "kernelspec": {
      "name": "python3",
      "display_name": "Python 3"
    },
    "language_info": {
      "name": "python"
    }
  },
  "cells": [
    {
      "cell_type": "markdown",
      "metadata": {
        "id": "view-in-github",
        "colab_type": "text"
      },
      "source": [
        "<a href=\"https://colab.research.google.com/github/jnhood/helloAI/blob/main/network_py.ipynb\" target=\"_parent\"><img src=\"https://colab.research.google.com/assets/colab-badge.svg\" alt=\"Open In Colab\"/></a>"
      ]
    },
    {
      "cell_type": "code",
      "execution_count": 1,
      "metadata": {
        "id": "eam7oTXcj-ok"
      },
      "outputs": [],
      "source": [
        "#### Libraries\n",
        "# Standard library\n",
        "import _pickle as cPickle   #change 1 - replace import cPickle with this line\n",
        "import gzip"
      ]
    },
    {
      "cell_type": "code",
      "source": [
        "# Third-party libraries\n",
        "import numpy as np\n",
        "import theano\n",
        "import theano.tensor as T\n",
        "from theano.tensor.nnet import conv\n",
        "from theano.tensor.nnet import softmax\n",
        "from theano.tensor import shared_randomstreams\n",
        "from theano.tensor.signal.pool import pool_2d  \n"
      ],
      "metadata": {
        "colab": {
          "base_uri": "https://localhost:8080/",
          "height": 373
        },
        "id": "PS5Gg1LfkRFI",
        "outputId": "65c382a2-4923-4e71-a764-61e720797a7f"
      },
      "execution_count": 2,
      "outputs": [
        {
          "output_type": "error",
          "ename": "ModuleNotFoundError",
          "evalue": "ignored",
          "traceback": [
            "\u001b[0;31m---------------------------------------------------------------------------\u001b[0m",
            "\u001b[0;31mModuleNotFoundError\u001b[0m                       Traceback (most recent call last)",
            "\u001b[0;32m<ipython-input-2-db4992c69d4f>\u001b[0m in \u001b[0;36m<module>\u001b[0;34m\u001b[0m\n\u001b[1;32m      1\u001b[0m \u001b[0;31m# Third-party libraries\u001b[0m\u001b[0;34m\u001b[0m\u001b[0;34m\u001b[0m\u001b[0m\n\u001b[1;32m      2\u001b[0m \u001b[0;32mimport\u001b[0m \u001b[0mnumpy\u001b[0m \u001b[0;32mas\u001b[0m \u001b[0mnp\u001b[0m\u001b[0;34m\u001b[0m\u001b[0;34m\u001b[0m\u001b[0m\n\u001b[0;32m----> 3\u001b[0;31m \u001b[0;32mimport\u001b[0m \u001b[0mtheano\u001b[0m\u001b[0;34m\u001b[0m\u001b[0;34m\u001b[0m\u001b[0m\n\u001b[0m\u001b[1;32m      4\u001b[0m \u001b[0;32mimport\u001b[0m \u001b[0mtheano\u001b[0m\u001b[0;34m.\u001b[0m\u001b[0mtensor\u001b[0m \u001b[0;32mas\u001b[0m \u001b[0mT\u001b[0m\u001b[0;34m\u001b[0m\u001b[0;34m\u001b[0m\u001b[0m\n\u001b[1;32m      5\u001b[0m \u001b[0;32mfrom\u001b[0m \u001b[0mtheano\u001b[0m\u001b[0;34m.\u001b[0m\u001b[0mtensor\u001b[0m\u001b[0;34m.\u001b[0m\u001b[0mnnet\u001b[0m \u001b[0;32mimport\u001b[0m \u001b[0mconv\u001b[0m\u001b[0;34m\u001b[0m\u001b[0;34m\u001b[0m\u001b[0m\n",
            "\u001b[0;31mModuleNotFoundError\u001b[0m: No module named 'theano'",
            "",
            "\u001b[0;31m---------------------------------------------------------------------------\u001b[0;32m\nNOTE: If your import is failing due to a missing package, you can\nmanually install dependencies using either !pip or !apt.\n\nTo view examples of installing some common dependencies, click the\n\"Open Examples\" button below.\n\u001b[0;31m---------------------------------------------------------------------------\u001b[0m\n"
          ],
          "errorDetails": {
            "actions": [
              {
                "action": "open_url",
                "actionText": "Open Examples",
                "url": "/notebooks/snippets/importing_libraries.ipynb"
              }
            ]
          }
        }
      ]
    },
    {
      "cell_type": "code",
      "source": [
        "# Activation functions for neurons\n",
        "def linear(z): return z\n",
        "def ReLU(z): return T.maximum(0.0, z)\n",
        "from theano.tensor.nnet import sigmoid\n",
        "from theano.tensor import tanh"
      ],
      "metadata": {
        "id": "fyKrJcJ_nh2M",
        "colab": {
          "base_uri": "https://localhost:8080/",
          "height": 356
        },
        "outputId": "5a521ab8-5b01-41c7-cc2f-9ec1e8633c40"
      },
      "execution_count": 3,
      "outputs": [
        {
          "output_type": "error",
          "ename": "ModuleNotFoundError",
          "evalue": "ignored",
          "traceback": [
            "\u001b[0;31m---------------------------------------------------------------------------\u001b[0m",
            "\u001b[0;31mModuleNotFoundError\u001b[0m                       Traceback (most recent call last)",
            "\u001b[0;32m<ipython-input-3-e0b5465310d6>\u001b[0m in \u001b[0;36m<module>\u001b[0;34m\u001b[0m\n\u001b[1;32m      2\u001b[0m \u001b[0;32mdef\u001b[0m \u001b[0mlinear\u001b[0m\u001b[0;34m(\u001b[0m\u001b[0mz\u001b[0m\u001b[0;34m)\u001b[0m\u001b[0;34m:\u001b[0m \u001b[0;32mreturn\u001b[0m \u001b[0mz\u001b[0m\u001b[0;34m\u001b[0m\u001b[0;34m\u001b[0m\u001b[0m\n\u001b[1;32m      3\u001b[0m \u001b[0;32mdef\u001b[0m \u001b[0mReLU\u001b[0m\u001b[0;34m(\u001b[0m\u001b[0mz\u001b[0m\u001b[0;34m)\u001b[0m\u001b[0;34m:\u001b[0m \u001b[0;32mreturn\u001b[0m \u001b[0mT\u001b[0m\u001b[0;34m.\u001b[0m\u001b[0mmaximum\u001b[0m\u001b[0;34m(\u001b[0m\u001b[0;36m0.0\u001b[0m\u001b[0;34m,\u001b[0m \u001b[0mz\u001b[0m\u001b[0;34m)\u001b[0m\u001b[0;34m\u001b[0m\u001b[0;34m\u001b[0m\u001b[0m\n\u001b[0;32m----> 4\u001b[0;31m \u001b[0;32mfrom\u001b[0m \u001b[0mtheano\u001b[0m\u001b[0;34m.\u001b[0m\u001b[0mtensor\u001b[0m\u001b[0;34m.\u001b[0m\u001b[0mnnet\u001b[0m \u001b[0;32mimport\u001b[0m \u001b[0msigmoid\u001b[0m\u001b[0;34m\u001b[0m\u001b[0;34m\u001b[0m\u001b[0m\n\u001b[0m\u001b[1;32m      5\u001b[0m \u001b[0;32mfrom\u001b[0m \u001b[0mtheano\u001b[0m\u001b[0;34m.\u001b[0m\u001b[0mtensor\u001b[0m \u001b[0;32mimport\u001b[0m \u001b[0mtanh\u001b[0m\u001b[0;34m\u001b[0m\u001b[0;34m\u001b[0m\u001b[0m\n",
            "\u001b[0;31mModuleNotFoundError\u001b[0m: No module named 'theano'",
            "",
            "\u001b[0;31m---------------------------------------------------------------------------\u001b[0;32m\nNOTE: If your import is failing due to a missing package, you can\nmanually install dependencies using either !pip or !apt.\n\nTo view examples of installing some common dependencies, click the\n\"Open Examples\" button below.\n\u001b[0;31m---------------------------------------------------------------------------\u001b[0m\n"
          ],
          "errorDetails": {
            "actions": [
              {
                "action": "open_url",
                "actionText": "Open Examples",
                "url": "/notebooks/snippets/importing_libraries.ipynb"
              }
            ]
          }
        }
      ]
    },
    {
      "cell_type": "code",
      "source": [
        "#### Constants\n",
        "GPU = True\n",
        "if GPU:\n",
        "    print(\"Trying to run under a GPU.  If this is not desired, then modify \"+\\\n",
        "        \"network3.py\\nto set the GPU flag to False.\")\n",
        "    try: theano.config.device = 'gpu'\n",
        "    except: pass # it's already set\n",
        "    theano.config.floatX = 'float32'\n",
        "else:\n",
        "    print(\"Running with a CPU.  If this is not desired, then the modify \"+\\\n",
        "        \"network3.py to set\\nthe GPU flag to True.\")"
      ],
      "metadata": {
        "id": "TyrKNZAfnk5i",
        "colab": {
          "base_uri": "https://localhost:8080/",
          "height": 269
        },
        "outputId": "1f57626b-a2a9-48f4-8134-ac0e07933a21"
      },
      "execution_count": 4,
      "outputs": [
        {
          "output_type": "stream",
          "name": "stdout",
          "text": [
            "Trying to run under a GPU.  If this is not desired, then modify network3.py\n",
            "to set the GPU flag to False.\n"
          ]
        },
        {
          "output_type": "error",
          "ename": "NameError",
          "evalue": "ignored",
          "traceback": [
            "\u001b[0;31m---------------------------------------------------------------------------\u001b[0m",
            "\u001b[0;31mNameError\u001b[0m                                 Traceback (most recent call last)",
            "\u001b[0;32m<ipython-input-4-fb2c563a8bec>\u001b[0m in \u001b[0;36m<module>\u001b[0;34m\u001b[0m\n\u001b[1;32m      6\u001b[0m     \u001b[0;32mtry\u001b[0m\u001b[0;34m:\u001b[0m \u001b[0mtheano\u001b[0m\u001b[0;34m.\u001b[0m\u001b[0mconfig\u001b[0m\u001b[0;34m.\u001b[0m\u001b[0mdevice\u001b[0m \u001b[0;34m=\u001b[0m \u001b[0;34m'gpu'\u001b[0m\u001b[0;34m\u001b[0m\u001b[0;34m\u001b[0m\u001b[0m\n\u001b[1;32m      7\u001b[0m     \u001b[0;32mexcept\u001b[0m\u001b[0;34m:\u001b[0m \u001b[0;32mpass\u001b[0m \u001b[0;31m# it's already set\u001b[0m\u001b[0;34m\u001b[0m\u001b[0;34m\u001b[0m\u001b[0m\n\u001b[0;32m----> 8\u001b[0;31m     \u001b[0mtheano\u001b[0m\u001b[0;34m.\u001b[0m\u001b[0mconfig\u001b[0m\u001b[0;34m.\u001b[0m\u001b[0mfloatX\u001b[0m \u001b[0;34m=\u001b[0m \u001b[0;34m'float32'\u001b[0m\u001b[0;34m\u001b[0m\u001b[0;34m\u001b[0m\u001b[0m\n\u001b[0m\u001b[1;32m      9\u001b[0m \u001b[0;32melse\u001b[0m\u001b[0;34m:\u001b[0m\u001b[0;34m\u001b[0m\u001b[0;34m\u001b[0m\u001b[0m\n\u001b[1;32m     10\u001b[0m     print(\"Running with a CPU.  If this is not desired, then the modify \"+\\\n",
            "\u001b[0;31mNameError\u001b[0m: name 'theano' is not defined"
          ]
        }
      ]
    },
    {
      "cell_type": "code",
      "source": [
        "#### Load the MNIST data\n",
        "def load_data_shared(filename=\"../data/mnist.pkl.gz\"):\n",
        "    f = gzip.open(filename, 'rb')\n",
        "    training_data, validation_data, test_data = cPickle.load(f, encoding='iso-8859-1')\n",
        "    f.close()\n",
        "    def shared(data):\n",
        "        \"\"\"Place the data into shared variables.  This allows Theano to copy\n",
        "        the data to the GPU, if one is available.\n",
        "\n",
        "        \"\"\"\n",
        "        shared_x = theano.shared(\n",
        "            np.asarray(data[0], dtype=theano.config.floatX), borrow=True)\n",
        "        shared_y = theano.shared(\n",
        "            np.asarray(data[1], dtype=theano.config.floatX), borrow=True)\n",
        "        return shared_x, T.cast(shared_y, \"int32\")\n",
        "    return [shared(training_data), shared(validation_data), shared(test_data)]\n"
      ],
      "metadata": {
        "id": "mEcdAWvdoAuk"
      },
      "execution_count": 5,
      "outputs": []
    },
    {
      "cell_type": "code",
      "source": [
        "#### Main class used to construct and train networks\n",
        "class Network(object):\n",
        "\n",
        "    def __init__(self, layers, mini_batch_size):\n",
        "        \"\"\"Takes a list of `layers`, describing the network architecture, and\n",
        "        a value for the `mini_batch_size` to be used during training\n",
        "        by stochastic gradient descent.\n",
        "\n",
        "        \"\"\"\n",
        "        self.layers = layers\n",
        "        self.mini_batch_size = mini_batch_size\n",
        "        self.params = [param for layer in self.layers for param in layer.params]\n",
        "        self.x = T.matrix(\"x\")\n",
        "        self.y = T.ivector(\"y\")\n",
        "        init_layer = self.layers[0]\n",
        "        init_layer.set_inpt(self.x, self.x, self.mini_batch_size)\n",
        "        for j in range(1, len(self.layers)):\n",
        "            prev_layer, layer  = self.layers[j-1], self.layers[j]\n",
        "            layer.set_inpt(\n",
        "                prev_layer.output, prev_layer.output_dropout, self.mini_batch_size)\n",
        "        self.output = self.layers[-1].output\n",
        "        self.output_dropout = self.layers[-1].output_dropout\n",
        "\n",
        "    def SGD(self, training_data, epochs, mini_batch_size, eta,\n",
        "            validation_data, test_data, lmbda=0.0):\n",
        "        \"\"\"Train the network using mini-batch stochastic gradient descent.\"\"\"\n",
        "        training_x, training_y = training_data\n",
        "        validation_x, validation_y = validation_data\n",
        "        test_x, test_y = test_data\n",
        "\n",
        "        # compute number of minibatches for training, validation and testing\n",
        "        num_training_batches = int(size(training_data)/mini_batch_size)\n",
        "        num_validation_batches = int(size(validation_data)/mini_batch_size)\n",
        "        num_test_batches = int(size(test_data)/mini_batch_size)\n",
        "\n",
        "        # define the (regularized) cost function, symbolic gradients, and updates\n",
        "        l2_norm_squared = sum([(layer.w**2).sum() for layer in self.layers])\n",
        "        cost = self.layers[-1].cost(self)+\\\n",
        "               0.5*lmbda*l2_norm_squared/num_training_batches\n",
        "        grads = T.grad(cost, self.params)\n",
        "        updates = [(param, param-eta*grad)\n",
        "                   for param, grad in zip(self.params, grads)]"
      ],
      "metadata": {
        "id": "4z7GkQp0oCzj"
      },
      "execution_count": 6,
      "outputs": []
    },
    {
      "cell_type": "code",
      "source": [
        " # define functions to train a mini-batch, and to compute the\n",
        "        # accuracy in validation and test mini-batches.\n",
        "        i = T.lscalar() # mini-batch index\n",
        "        train_mb = theano.function(\n",
        "            [i], cost, updates=updates,\n",
        "            givens={\n",
        "                self.x:\n",
        "                training_x[i*self.mini_batch_size: (i+1)*self.mini_batch_size],\n",
        "                self.y:\n",
        "                training_y[i*self.mini_batch_size: (i+1)*self.mini_batch_size]\n",
        "            })\n",
        "        validate_mb_accuracy = theano.function(\n",
        "            [i], self.layers[-1].accuracy(self.y),\n",
        "            givens={\n",
        "                self.x:\n",
        "                validation_x[i*self.mini_batch_size: (i+1)*self.mini_batch_size],\n",
        "                self.y:\n",
        "                validation_y[i*self.mini_batch_size: (i+1)*self.mini_batch_size]\n",
        "            })\n",
        "        test_mb_accuracy = theano.function(\n",
        "            [i], self.layers[-1].accuracy(self.y),\n",
        "            givens={\n",
        "                self.x:\n",
        "                test_x[i*self.mini_batch_size: (i+1)*self.mini_batch_size],\n",
        "                self.y:\n",
        "                test_y[i*self.mini_batch_size: (i+1)*self.mini_batch_size]\n",
        "            })\n",
        "        self.test_mb_predictions = theano.function(\n",
        "            [i], self.layers[-1].y_out,\n",
        "            givens={\n",
        "                self.x:\n",
        "                test_x[i*self.mini_batch_size: (i+1)*self.mini_batch_size]\n",
        "            })\n",
        "        self.test_mb_outputs = theano.function(\n",
        "            [i], self.layers[-1].output,\n",
        "            givens={\n",
        "                self.x:\n",
        "                test_x[i*self.mini_batch_size: (i+1)*self.mini_batch_size]\n",
        "            })\n",
        "        # Do the actual training\n",
        "        best_validation_accuracy = 0.0\n",
        "        for epoch in range(epochs):\n",
        "            for minibatch_index in range(num_training_batches):\n",
        "                iteration = num_training_batches*epoch+minibatch_index\n",
        "                if iteration % 1000 == 0:\n",
        "                    print(f\"Training mini-batch number {iteration}\")\n",
        "                cost_ij = train_mb(minibatch_index)\n",
        "                if (iteration+1) % num_training_batches == 0:\n",
        "                    validation_accuracy = np.mean(\n",
        "                        [validate_mb_accuracy(j) for j in range(num_validation_batches)])\n",
        "                    print(f\"Epoch {epoch}: validation accuracy {validation_accuracy}\")\n",
        "                    if validation_accuracy >= best_validation_accuracy:\n",
        "                        print(\"This is the best validation accuracy to date.\")\n",
        "                        best_validation_accuracy = validation_accuracy\n",
        "                        best_iteration = iteration\n",
        "                        if test_data:\n",
        "                            test_accuracy = np.mean(\n",
        "                                [test_mb_accuracy(j) for j in range(num_test_batches)])\n",
        "                            print(f'The corresponding test accuracy is {test_accuracy}')\n",
        "        print(\"Finished training network.\")\n",
        "        print(\"Best validation accuracy of {0:.2%} obtained at iteration {1}\".format(\n",
        "            best_validation_accuracy, best_iteration))\n",
        "        print(\"Corresponding test accuracy of {0:.2%}\".format(test_accuracy))\n"
      ],
      "metadata": {
        "id": "5ZknH3p8oUW6",
        "colab": {
          "base_uri": "https://localhost:8080/",
          "height": 130
        },
        "outputId": "d0bf4460-2a8c-4fbd-a756-04776b55996f"
      },
      "execution_count": 7,
      "outputs": [
        {
          "output_type": "error",
          "ename": "IndentationError",
          "evalue": "ignored",
          "traceback": [
            "\u001b[0;36m  File \u001b[0;32m\"<ipython-input-7-979570ade376>\"\u001b[0;36m, line \u001b[0;32m3\u001b[0m\n\u001b[0;31m    i = T.lscalar() # mini-batch index\u001b[0m\n\u001b[0m    ^\u001b[0m\n\u001b[0;31mIndentationError\u001b[0m\u001b[0;31m:\u001b[0m unexpected indent\n"
          ]
        }
      ]
    },
    {
      "cell_type": "code",
      "source": [
        "#### Define layer types\n",
        "\n",
        "class ConvPoolLayer(object):\n",
        "    \"\"\"Used to create a combination of a convolutional and a max-pooling\n",
        "    layer.  A more sophisticated implementation would separate the\n",
        "    two, but for our purposes we'll always use them together, and it\n",
        "    simplifies the code, so it makes sense to combine them.\n",
        "\n",
        "    \"\"\"\n",
        "    def __init__(self, filter_shape, image_shape, poolsize=(2, 2),\n",
        "                 activation_fn=sigmoid):\n",
        "        \"\"\"`filter_shape` is a tuple of length 4, whose entries are the number\n",
        "        of filters, the number of input feature maps, the filter height, and the\n",
        "        filter width.\n",
        "\n",
        "        `image_shape` is a tuple of length 4, whose entries are the\n",
        "        mini-batch size, the number of input feature maps, the image\n",
        "        height, and the image width.\n",
        "\n",
        "        `poolsize` is a tuple of length 2, whose entries are the y and\n",
        "        x pooling sizes.\n",
        "\n",
        "        \"\"\"\n",
        "        self.filter_shape = filter_shape\n",
        "        self.image_shape = image_shape\n",
        "        self.poolsize = poolsize\n",
        "        self.activation_fn=activation_fn\n",
        "        # initialize weights and biases\n",
        "        n_out = (filter_shape[0]*np.prod(filter_shape[2:])/np.prod(poolsize))\n",
        "        self.w = theano.shared(\n",
        "            np.asarray(\n",
        "                np.random.normal(loc=0, scale=np.sqrt(1.0/n_out), size=filter_shape),\n",
        "                dtype=theano.config.floatX),\n",
        "            borrow=True)\n",
        "        self.b = theano.shared(\n",
        "            np.asarray(\n",
        "                np.random.normal(loc=0, scale=1.0, size=(filter_shape[0],)),\n",
        "                dtype=theano.config.floatX),\n",
        "            borrow=True)\n",
        "        self.params = [self.w, self.b]\n",
        "\n",
        "    def set_inpt(self, inpt, inpt_dropout, mini_batch_size):\n",
        "        self.inpt = inpt.reshape(self.image_shape)\n",
        "        conv_out = conv.conv2d(\n",
        "            input=self.inpt, filters=self.w, filter_shape=self.filter_shape,\n",
        "            image_shape=self.image_shape)\n",
        "        pooled_out = pool_2d(\n",
        "            input=conv_out, ds=self.poolsize, ignore_border=True)\n",
        "        self.output = self.activation_fn(\n",
        "            pooled_out + self.b.dimshuffle('x', 0, 'x', 'x'))\n",
        "        self.output_dropout = self.output # no dropout in the convolutional layers\n"
      ],
      "metadata": {
        "id": "Bt60516iogel",
        "colab": {
          "base_uri": "https://localhost:8080/",
          "height": 356
        },
        "outputId": "48ae3e79-bda2-4de6-c047-0c17f9554c8d"
      },
      "execution_count": 8,
      "outputs": [
        {
          "output_type": "error",
          "ename": "NameError",
          "evalue": "ignored",
          "traceback": [
            "\u001b[0;31m---------------------------------------------------------------------------\u001b[0m",
            "\u001b[0;31mNameError\u001b[0m                                 Traceback (most recent call last)",
            "\u001b[0;32m<ipython-input-8-06fa7650ac6e>\u001b[0m in \u001b[0;36m<module>\u001b[0;34m\u001b[0m\n\u001b[1;32m      1\u001b[0m \u001b[0;31m#### Define layer types\u001b[0m\u001b[0;34m\u001b[0m\u001b[0;34m\u001b[0m\u001b[0m\n\u001b[1;32m      2\u001b[0m \u001b[0;34m\u001b[0m\u001b[0m\n\u001b[0;32m----> 3\u001b[0;31m \u001b[0;32mclass\u001b[0m \u001b[0mConvPoolLayer\u001b[0m\u001b[0;34m(\u001b[0m\u001b[0mobject\u001b[0m\u001b[0;34m)\u001b[0m\u001b[0;34m:\u001b[0m\u001b[0;34m\u001b[0m\u001b[0;34m\u001b[0m\u001b[0m\n\u001b[0m\u001b[1;32m      4\u001b[0m     \"\"\"Used to create a combination of a convolutional and a max-pooling\n\u001b[1;32m      5\u001b[0m     \u001b[0mlayer\u001b[0m\u001b[0;34m.\u001b[0m  \u001b[0mA\u001b[0m \u001b[0mmore\u001b[0m \u001b[0msophisticated\u001b[0m \u001b[0mimplementation\u001b[0m \u001b[0mwould\u001b[0m \u001b[0mseparate\u001b[0m \u001b[0mthe\u001b[0m\u001b[0;34m\u001b[0m\u001b[0;34m\u001b[0m\u001b[0m\n",
            "\u001b[0;32m<ipython-input-8-06fa7650ac6e>\u001b[0m in \u001b[0;36mConvPoolLayer\u001b[0;34m()\u001b[0m\n\u001b[1;32m      9\u001b[0m     \"\"\"\n\u001b[1;32m     10\u001b[0m     def __init__(self, filter_shape, image_shape, poolsize=(2, 2),\n\u001b[0;32m---> 11\u001b[0;31m                  activation_fn=sigmoid):\n\u001b[0m\u001b[1;32m     12\u001b[0m         \"\"\"`filter_shape` is a tuple of length 4, whose entries are the number\n\u001b[1;32m     13\u001b[0m         \u001b[0mof\u001b[0m \u001b[0mfilters\u001b[0m\u001b[0;34m,\u001b[0m \u001b[0mthe\u001b[0m \u001b[0mnumber\u001b[0m \u001b[0mof\u001b[0m \u001b[0minput\u001b[0m \u001b[0mfeature\u001b[0m \u001b[0mmaps\u001b[0m\u001b[0;34m,\u001b[0m \u001b[0mthe\u001b[0m \u001b[0mfilter\u001b[0m \u001b[0mheight\u001b[0m\u001b[0;34m,\u001b[0m \u001b[0;32mand\u001b[0m \u001b[0mthe\u001b[0m\u001b[0;34m\u001b[0m\u001b[0;34m\u001b[0m\u001b[0m\n",
            "\u001b[0;31mNameError\u001b[0m: name 'sigmoid' is not defined"
          ]
        }
      ]
    },
    {
      "cell_type": "code",
      "source": [
        "class FullyConnectedLayer(object):\n",
        "\n",
        "    def __init__(self, n_in, n_out, activation_fn=sigmoid, p_dropout=0.0):\n",
        "        self.n_in = n_in\n",
        "        self.n_out = n_out\n",
        "        self.activation_fn = activation_fn\n",
        "        self.p_dropout = p_dropout\n",
        "        # Initialize weights and biases\n",
        "        self.w = theano.shared(\n",
        "            np.asarray(\n",
        "                np.random.normal(\n",
        "                    loc=0.0, scale=np.sqrt(1.0/n_out), size=(n_in, n_out)),\n",
        "                dtype=theano.config.floatX),\n",
        "            name='w', borrow=True)\n",
        "        self.b = theano.shared(\n",
        "            np.asarray(np.random.normal(loc=0.0, scale=1.0, size=(n_out,)),\n",
        "                       dtype=theano.config.floatX),\n",
        "            name='b', borrow=True)\n",
        "        self.params = [self.w, self.b]\n",
        "\n",
        "    def set_inpt(self, inpt, inpt_dropout, mini_batch_size):\n",
        "        self.inpt = inpt.reshape((mini_batch_size, self.n_in))\n",
        "        self.output = self.activation_fn(\n",
        "            (1-self.p_dropout)*T.dot(self.inpt, self.w) + self.b)\n",
        "        self.y_out = T.argmax(self.output, axis=1)\n",
        "        self.inpt_dropout = dropout_layer(\n",
        "            inpt_dropout.reshape((mini_batch_size, self.n_in)), self.p_dropout)\n",
        "        self.output_dropout = self.activation_fn(\n",
        "            T.dot(self.inpt_dropout, self.w) + self.b)\n",
        "\n",
        "    def accuracy(self, y):\n",
        "        \"Return the accuracy for the mini-batch.\"\n",
        "        return T.mean(T.eq(y, self.y_out))\n"
      ],
      "metadata": {
        "id": "cqD-tWCQoqQh",
        "colab": {
          "base_uri": "https://localhost:8080/",
          "height": 356
        },
        "outputId": "7f4a1337-5aa2-4462-d77b-4b9c0d8763f4"
      },
      "execution_count": 9,
      "outputs": [
        {
          "output_type": "error",
          "ename": "NameError",
          "evalue": "ignored",
          "traceback": [
            "\u001b[0;31m---------------------------------------------------------------------------\u001b[0m",
            "\u001b[0;31mNameError\u001b[0m                                 Traceback (most recent call last)",
            "\u001b[0;32m<ipython-input-9-c7891df3de9a>\u001b[0m in \u001b[0;36m<module>\u001b[0;34m\u001b[0m\n\u001b[0;32m----> 1\u001b[0;31m \u001b[0;32mclass\u001b[0m \u001b[0mFullyConnectedLayer\u001b[0m\u001b[0;34m(\u001b[0m\u001b[0mobject\u001b[0m\u001b[0;34m)\u001b[0m\u001b[0;34m:\u001b[0m\u001b[0;34m\u001b[0m\u001b[0;34m\u001b[0m\u001b[0m\n\u001b[0m\u001b[1;32m      2\u001b[0m \u001b[0;34m\u001b[0m\u001b[0m\n\u001b[1;32m      3\u001b[0m     \u001b[0;32mdef\u001b[0m \u001b[0m__init__\u001b[0m\u001b[0;34m(\u001b[0m\u001b[0mself\u001b[0m\u001b[0;34m,\u001b[0m \u001b[0mn_in\u001b[0m\u001b[0;34m,\u001b[0m \u001b[0mn_out\u001b[0m\u001b[0;34m,\u001b[0m \u001b[0mactivation_fn\u001b[0m\u001b[0;34m=\u001b[0m\u001b[0msigmoid\u001b[0m\u001b[0;34m,\u001b[0m \u001b[0mp_dropout\u001b[0m\u001b[0;34m=\u001b[0m\u001b[0;36m0.0\u001b[0m\u001b[0;34m)\u001b[0m\u001b[0;34m:\u001b[0m\u001b[0;34m\u001b[0m\u001b[0;34m\u001b[0m\u001b[0m\n\u001b[1;32m      4\u001b[0m         \u001b[0mself\u001b[0m\u001b[0;34m.\u001b[0m\u001b[0mn_in\u001b[0m \u001b[0;34m=\u001b[0m \u001b[0mn_in\u001b[0m\u001b[0;34m\u001b[0m\u001b[0;34m\u001b[0m\u001b[0m\n\u001b[1;32m      5\u001b[0m         \u001b[0mself\u001b[0m\u001b[0;34m.\u001b[0m\u001b[0mn_out\u001b[0m \u001b[0;34m=\u001b[0m \u001b[0mn_out\u001b[0m\u001b[0;34m\u001b[0m\u001b[0;34m\u001b[0m\u001b[0m\n",
            "\u001b[0;32m<ipython-input-9-c7891df3de9a>\u001b[0m in \u001b[0;36mFullyConnectedLayer\u001b[0;34m()\u001b[0m\n\u001b[1;32m      1\u001b[0m \u001b[0;32mclass\u001b[0m \u001b[0mFullyConnectedLayer\u001b[0m\u001b[0;34m(\u001b[0m\u001b[0mobject\u001b[0m\u001b[0;34m)\u001b[0m\u001b[0;34m:\u001b[0m\u001b[0;34m\u001b[0m\u001b[0;34m\u001b[0m\u001b[0m\n\u001b[1;32m      2\u001b[0m \u001b[0;34m\u001b[0m\u001b[0m\n\u001b[0;32m----> 3\u001b[0;31m     \u001b[0;32mdef\u001b[0m \u001b[0m__init__\u001b[0m\u001b[0;34m(\u001b[0m\u001b[0mself\u001b[0m\u001b[0;34m,\u001b[0m \u001b[0mn_in\u001b[0m\u001b[0;34m,\u001b[0m \u001b[0mn_out\u001b[0m\u001b[0;34m,\u001b[0m \u001b[0mactivation_fn\u001b[0m\u001b[0;34m=\u001b[0m\u001b[0msigmoid\u001b[0m\u001b[0;34m,\u001b[0m \u001b[0mp_dropout\u001b[0m\u001b[0;34m=\u001b[0m\u001b[0;36m0.0\u001b[0m\u001b[0;34m)\u001b[0m\u001b[0;34m:\u001b[0m\u001b[0;34m\u001b[0m\u001b[0;34m\u001b[0m\u001b[0m\n\u001b[0m\u001b[1;32m      4\u001b[0m         \u001b[0mself\u001b[0m\u001b[0;34m.\u001b[0m\u001b[0mn_in\u001b[0m \u001b[0;34m=\u001b[0m \u001b[0mn_in\u001b[0m\u001b[0;34m\u001b[0m\u001b[0;34m\u001b[0m\u001b[0m\n\u001b[1;32m      5\u001b[0m         \u001b[0mself\u001b[0m\u001b[0;34m.\u001b[0m\u001b[0mn_out\u001b[0m \u001b[0;34m=\u001b[0m \u001b[0mn_out\u001b[0m\u001b[0;34m\u001b[0m\u001b[0;34m\u001b[0m\u001b[0m\n",
            "\u001b[0;31mNameError\u001b[0m: name 'sigmoid' is not defined"
          ]
        }
      ]
    },
    {
      "cell_type": "code",
      "source": [
        "class SoftmaxLayer(object):\n",
        "\n",
        "    def __init__(self, n_in, n_out, p_dropout=0.0):\n",
        "        self.n_in = n_in\n",
        "        self.n_out = n_out\n",
        "        self.p_dropout = p_dropout\n",
        "        # Initialize weights and biases\n",
        "        self.w = theano.shared(\n",
        "            np.zeros((n_in, n_out), dtype=theano.config.floatX),\n",
        "            name='w', borrow=True)\n",
        "        self.b = theano.shared(\n",
        "            np.zeros((n_out,), dtype=theano.config.floatX),\n",
        "            name='b', borrow=True)\n",
        "        self.params = [self.w, self.b]\n",
        "\n",
        "    def set_inpt(self, inpt, inpt_dropout, mini_batch_size):\n",
        "        self.inpt = inpt.reshape((mini_batch_size, self.n_in))\n",
        "        self.output = softmax((1-self.p_dropout)*T.dot(self.inpt, self.w) + self.b)\n",
        "        self.y_out = T.argmax(self.output, axis=1)\n",
        "        self.inpt_dropout = dropout_layer(\n",
        "            inpt_dropout.reshape((mini_batch_size, self.n_in)), self.p_dropout)\n",
        "        self.output_dropout = softmax(T.dot(self.inpt_dropout, self.w) + self.b)\n",
        "\n",
        "    def cost(self, net):\n",
        "        \"Return the log-likelihood cost.\"\n",
        "        return -T.mean(T.log(self.output_dropout)[T.arange(net.y.shape[0]), net.y])\n",
        "\n",
        "    def accuracy(self, y):\n",
        "        \"Return the accuracy for the mini-batch.\"\n",
        "        return T.mean(T.eq(y, self.y_out))\n"
      ],
      "metadata": {
        "id": "lrjfEyCMotwU"
      },
      "execution_count": 10,
      "outputs": []
    },
    {
      "cell_type": "code",
      "source": [
        "#### Miscellanea\n",
        "def size(data):\n",
        "    \"Return the size of the dataset `data`.\"\n",
        "    return data[0].get_value(borrow=True).shape[0]\n",
        "\n",
        "def dropout_layer(layer, p_dropout):\n",
        "    srng = shared_randomstreams.RandomStreams(\n",
        "        np.random.RandomState(0).randint(999999))\n",
        "    mask = srng.binomial(n=1, p=1-p_dropout, size=layer.shape)\n",
        "    return layer*T.cast(mask, theano.config.floatX)"
      ],
      "metadata": {
        "id": "T70zWgTxoxkn"
      },
      "execution_count": 11,
      "outputs": []
    }
  ]
}