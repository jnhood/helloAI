{
  "nbformat": 4,
  "nbformat_minor": 0,
  "metadata": {
    "colab": {
      "provenance": [],
      "authorship_tag": "ABX9TyOiWbvOHRt5uVphT5015Hpn",
      "include_colab_link": true
    },
    "kernelspec": {
      "name": "python3",
      "display_name": "Python 3"
    },
    "language_info": {
      "name": "python"
    }
  },
  "cells": [
    {
      "cell_type": "markdown",
      "metadata": {
        "id": "view-in-github",
        "colab_type": "text"
      },
      "source": [
        "<a href=\"https://colab.research.google.com/github/jnhood/helloAI/blob/main/numpyandmatplotlib.ipynb\" target=\"_parent\"><img src=\"https://colab.research.google.com/assets/colab-badge.svg\" alt=\"Open In Colab\"/></a>"
      ]
    },
    {
      "cell_type": "code",
      "execution_count": 2,
      "metadata": {
        "colab": {
          "base_uri": "https://localhost:8080/"
        },
        "id": "e0QjR_BFcCr9",
        "outputId": "6a1b6d64-a5d3-4a61-b7b3-25988e3ed831"
      },
      "outputs": [
        {
          "output_type": "stream",
          "name": "stdout",
          "text": [
            "[3 2 7]\n",
            "[3 2 7]\n",
            "[1.+0.j 2.+0.j 3.+0.j]\n"
          ]
        }
      ],
      "source": [
        "import numpy as np\n",
        "#creating 1-dimensional arrays\n",
        "#creating python list\n",
        "list_1 = [3,2,7]\n",
        "arr_1 = np.array(list_1,dtype=np.int16)\n",
        "print(arr_1)\n",
        "#or \n",
        "arr_1=np.array([3,2,7])\n",
        "print(arr_1)\n",
        "\n",
        "#creating array of complex number\n",
        "arr_complex = np.array([1, 2, 3], dtype = complex)\n",
        "print(arr_complex)\n"
      ]
    },
    {
      "cell_type": "code",
      "source": [
        "#creating two-dimensionsal array\n",
        "list_m = [[1, 2, 3], [4, 5, 6], [7, 8, 9]] #nested lists\n",
        "arr_m = np.array(list_m,dtype=np.int16)\n",
        "print(arr_m)"
      ],
      "metadata": {
        "colab": {
          "base_uri": "https://localhost:8080/"
        },
        "id": "4UGFU6mFcnN_",
        "outputId": "504ca50c-92cb-4fdc-aa14-6a277ed395a9"
      },
      "execution_count": 3,
      "outputs": [
        {
          "output_type": "stream",
          "name": "stdout",
          "text": [
            "[[1 2 3]\n",
            " [4 5 6]\n",
            " [7 8 9]]\n"
          ]
        }
      ]
    },
    {
      "cell_type": "code",
      "source": [
        "#Creating an array of all zeros\n",
        "arr_0 = np.zeros((2,2))  \n",
        "print(arr_0)"
      ],
      "metadata": {
        "colab": {
          "base_uri": "https://localhost:8080/"
        },
        "id": "8JAL9ZqOc1p3",
        "outputId": "ec4ef05f-1d51-4cc2-d414-cb26935759a2"
      },
      "execution_count": 4,
      "outputs": [
        {
          "output_type": "stream",
          "name": "stdout",
          "text": [
            "[[0. 0.]\n",
            " [0. 0.]]\n"
          ]
        }
      ]
    },
    {
      "cell_type": "code",
      "source": [
        "# Creating an array of all ones\n",
        "arr_1= np.ones((1,2))    \n",
        "print(arr_1)"
      ],
      "metadata": {
        "colab": {
          "base_uri": "https://localhost:8080/"
        },
        "id": "Rtc0NH3tdGOr",
        "outputId": "0acd9c7d-bcfa-4311-c2e7-d635bd0d8be3"
      },
      "execution_count": 5,
      "outputs": [
        {
          "output_type": "stream",
          "name": "stdout",
          "text": [
            "[[1. 1.]]\n"
          ]
        }
      ]
    },
    {
      "cell_type": "code",
      "source": [
        "# Creating a constant array\n",
        "arr_c = np.full((2,2), 7) \n",
        "print(arr_c)"
      ],
      "metadata": {
        "colab": {
          "base_uri": "https://localhost:8080/"
        },
        "id": "TqffkdmWdMmT",
        "outputId": "729496fd-dc53-4f1e-c37c-2aa99314975c"
      },
      "execution_count": 6,
      "outputs": [
        {
          "output_type": "stream",
          "name": "stdout",
          "text": [
            "[[7 7]\n",
            " [7 7]]\n"
          ]
        }
      ]
    },
    {
      "cell_type": "code",
      "source": [
        "arr_L = np.linspace(0, 5,7)\n",
        "print(arr_L)"
      ],
      "metadata": {
        "colab": {
          "base_uri": "https://localhost:8080/"
        },
        "id": "yf0g6y_fdPAr",
        "outputId": "09037161-26aa-4b67-d704-239e0d5374f0"
      },
      "execution_count": 7,
      "outputs": [
        {
          "output_type": "stream",
          "name": "stdout",
          "text": [
            "[0.         0.83333333 1.66666667 2.5        3.33333333 4.16666667\n",
            " 5.        ]\n"
          ]
        }
      ]
    },
    {
      "cell_type": "code",
      "source": [
        "arr_a=np.arange(1, 10,1)\n",
        "print(arr_a)"
      ],
      "metadata": {
        "colab": {
          "base_uri": "https://localhost:8080/"
        },
        "id": "9jR8Rvg5dT-a",
        "outputId": "c44ac53d-1552-49f9-e07c-fade2d394766"
      },
      "execution_count": 8,
      "outputs": [
        {
          "output_type": "stream",
          "name": "stdout",
          "text": [
            "[1 2 3 4 5 6 7 8 9]\n"
          ]
        }
      ]
    },
    {
      "cell_type": "code",
      "source": [
        "arr_r = np.random.random((2,2))  \n",
        "print(arr_r)"
      ],
      "metadata": {
        "colab": {
          "base_uri": "https://localhost:8080/"
        },
        "id": "VicxoZuQdYq7",
        "outputId": "94f6c610-7141-4810-b136-0122446b58e0"
      },
      "execution_count": 9,
      "outputs": [
        {
          "output_type": "stream",
          "name": "stdout",
          "text": [
            "[[0.23461324 0.26628514]\n",
            " [0.19639588 0.75208545]]\n"
          ]
        }
      ]
    },
    {
      "cell_type": "code",
      "source": [
        "arr_1= np.random.randint(10,100,7)  \n",
        "print(arr_1)"
      ],
      "metadata": {
        "colab": {
          "base_uri": "https://localhost:8080/"
        },
        "id": "MkpVhv6Fdb7h",
        "outputId": "5e13c994-2891-4ac6-8cce-76eebb15f2b3"
      },
      "execution_count": 10,
      "outputs": [
        {
          "output_type": "stream",
          "name": "stdout",
          "text": [
            "[93 44 81 97 23 59 52]\n"
          ]
        }
      ]
    },
    {
      "cell_type": "code",
      "source": [
        "arr_n= np.random.randn(10)  \n",
        "print(arr_n)"
      ],
      "metadata": {
        "colab": {
          "base_uri": "https://localhost:8080/"
        },
        "id": "qoDLG9yLeTen",
        "outputId": "d6466c70-51a4-4c17-e380-1fba1bd33dc3"
      },
      "execution_count": 11,
      "outputs": [
        {
          "output_type": "stream",
          "name": "stdout",
          "text": [
            "[ 0.07229117 -1.73423014 -0.63966235  0.84002559  0.53566764  0.88830881\n",
            " -1.08571278  0.11729065 -0.21313899 -0.83979117]\n"
          ]
        }
      ]
    },
    {
      "cell_type": "code",
      "source": [
        "arr_I = np.eye(2)         \n",
        "#Create a 2x2 identity matrix\n",
        "print(arr_I)\n"
      ],
      "metadata": {
        "colab": {
          "base_uri": "https://localhost:8080/"
        },
        "id": "d8OUo7BAeYrK",
        "outputId": "2dedcaff-e232-4aed-ffdb-60cc48237582"
      },
      "execution_count": 12,
      "outputs": [
        {
          "output_type": "stream",
          "name": "stdout",
          "text": [
            "[[1. 0.]\n",
            " [0. 1.]]\n"
          ]
        }
      ]
    },
    {
      "cell_type": "code",
      "source": [
        "#converting list to ndarray \n",
        "import numpy as np\n",
        "x = [1,2,3] \n",
        "a = np.asarray(x) \n",
        "print (a)\n",
        "\n",
        "# ndarray from tuple \n",
        "x_1 = (1,2,3) \n",
        "a_1 = np.asarray(x_1) \n",
        "print (a_1)\n",
        "\n",
        "# ndarray from list of tuples \n",
        "import numpy as np\n",
        "x_2 = [(1,2,3),(4,5)] \n",
        "a_2 = np.asarray(x_2) \n",
        "print (a_2)\n"
      ],
      "metadata": {
        "colab": {
          "base_uri": "https://localhost:8080/"
        },
        "id": "3NF6sWKseggv",
        "outputId": "782a4177-2bf2-4e1b-ea3d-c7c96f404656"
      },
      "execution_count": 13,
      "outputs": [
        {
          "output_type": "stream",
          "name": "stdout",
          "text": [
            "[1 2 3]\n",
            "[1 2 3]\n",
            "[(1, 2, 3) (4, 5)]\n"
          ]
        },
        {
          "output_type": "stream",
          "name": "stderr",
          "text": [
            "<ipython-input-13-4ce0e3aa840c>:15: VisibleDeprecationWarning: Creating an ndarray from ragged nested sequences (which is a list-or-tuple of lists-or-tuples-or ndarrays with different lengths or shapes) is deprecated. If you meant to do this, you must specify 'dtype=object' when creating the ndarray.\n",
            "  a_2 = np.asarray(x_2)\n"
          ]
        }
      ]
    },
    {
      "cell_type": "code",
      "source": [
        "import numpy as np \n",
        "arr = np.array([[1,2,3],[4,5,6]]) \n",
        "print (arr.shape)\n",
        "\n",
        "#resizing the above array\n",
        "a = np.array([[1,2,3],[4,5,6]]) \n",
        "a.shape = (3,2) \n",
        "print (a)\n",
        "\n",
        "#or \n",
        "a = np.array([[1,2,3],[4,5,6]]) \n",
        "b = a.reshape(3,2) \n",
        "print (b)"
      ],
      "metadata": {
        "colab": {
          "base_uri": "https://localhost:8080/"
        },
        "id": "3pEs45_9et01",
        "outputId": "6f585f36-0017-4325-9b98-70e68a40695e"
      },
      "execution_count": 14,
      "outputs": [
        {
          "output_type": "stream",
          "name": "stdout",
          "text": [
            "(2, 3)\n",
            "[[1 2]\n",
            " [3 4]\n",
            " [5 6]]\n",
            "[[1 2]\n",
            " [3 4]\n",
            " [5 6]]\n"
          ]
        }
      ]
    },
    {
      "cell_type": "code",
      "source": [
        "import numpy as np \n",
        "x = np.array([[3,2,1],[4,6,1]]) \n",
        "print(x.size)"
      ],
      "metadata": {
        "colab": {
          "base_uri": "https://localhost:8080/"
        },
        "id": "Mx3PZpt4fmDy",
        "outputId": "1fd5239f-5d29-488a-a2c2-9db7975f5059"
      },
      "execution_count": 15,
      "outputs": [
        {
          "output_type": "stream",
          "name": "stdout",
          "text": [
            "6\n"
          ]
        }
      ]
    },
    {
      "cell_type": "code",
      "source": [
        "import numpy as np \n",
        "a = np.array([[1,2,3],[4,5,6]]) \n",
        "a.itemsize"
      ],
      "metadata": {
        "colab": {
          "base_uri": "https://localhost:8080/"
        },
        "id": "u-F9gT-Df2XX",
        "outputId": "b6600c37-ce52-4b84-da81-42f3884c405d"
      },
      "execution_count": 16,
      "outputs": [
        {
          "output_type": "execute_result",
          "data": {
            "text/plain": [
              "8"
            ]
          },
          "metadata": {},
          "execution_count": 16
        }
      ]
    },
    {
      "cell_type": "code",
      "source": [
        "import numpy as np \n",
        "a = np.array([[1,2,3],[4,5,6]]) \n",
        "a.ndim"
      ],
      "metadata": {
        "colab": {
          "base_uri": "https://localhost:8080/"
        },
        "id": "xAom2EfDf62r",
        "outputId": "4a8aff96-e0a7-42ac-9da3-b776735d90ac"
      },
      "execution_count": 17,
      "outputs": [
        {
          "output_type": "execute_result",
          "data": {
            "text/plain": [
              "2"
            ]
          },
          "metadata": {},
          "execution_count": 17
        }
      ]
    },
    {
      "cell_type": "code",
      "source": [
        "#for example -\n",
        "import numpy as np \n",
        "arr = np.array([[1,2,3],[4,5,6]]) \n",
        "print (arr)\n",
        "type(arr)"
      ],
      "metadata": {
        "colab": {
          "base_uri": "https://localhost:8080/"
        },
        "id": "8gTjlpHRf8Wi",
        "outputId": "a66d8619-452d-4cd1-b3d9-de7a919ae053"
      },
      "execution_count": 19,
      "outputs": [
        {
          "output_type": "stream",
          "name": "stdout",
          "text": [
            "[[1 2 3]\n",
            " [4 5 6]]\n"
          ]
        },
        {
          "output_type": "execute_result",
          "data": {
            "text/plain": [
              "numpy.ndarray"
            ]
          },
          "metadata": {},
          "execution_count": 19
        }
      ]
    },
    {
      "cell_type": "code",
      "source": [
        "#for example -\n",
        "print(arr.dtype)"
      ],
      "metadata": {
        "colab": {
          "base_uri": "https://localhost:8080/"
        },
        "id": "WbZ_DkRtgDla",
        "outputId": "880ac390-584e-446c-ee59-b081040c9239"
      },
      "execution_count": 23,
      "outputs": [
        {
          "output_type": "stream",
          "name": "stdout",
          "text": [
            "int64\n"
          ]
        }
      ]
    },
    {
      "cell_type": "code",
      "source": [
        "import numpy as np\n",
        "arr = np.arange(10)\n",
        "print(arr)\n",
        "\n",
        "#Example-1\n",
        "print(arr[7])\n",
        "#or \n",
        "print(arr[-3])\n",
        "\n",
        "print(arr[0:5])\n",
        "#or \n",
        "print(arr[0:-4])\n",
        "\n",
        "print(arr[-4:-1])"
      ],
      "metadata": {
        "colab": {
          "base_uri": "https://localhost:8080/"
        },
        "id": "2b9Qc531gSh2",
        "outputId": "375209db-b468-40a6-ce14-b48d3f1c1737"
      },
      "execution_count": 24,
      "outputs": [
        {
          "output_type": "stream",
          "name": "stdout",
          "text": [
            "[0 1 2 3 4 5 6 7 8 9]\n",
            "7\n",
            "7\n",
            "[0 1 2 3 4]\n",
            "[0 1 2 3 4 5]\n",
            "[6 7 8]\n"
          ]
        }
      ]
    },
    {
      "cell_type": "code",
      "source": [
        "import numpy as np \n",
        "arr = np.arange(10)\n",
        "#Slicing single element\n",
        "slice_arr = arr[2] \n",
        "print (slice_arr)\n",
        "\n",
        "#Slicing elements in between indexes\n",
        "print (arr[2:5])\n",
        "#or\n",
        "print (arr[-8:-5]) #using negative index\n",
        "\n",
        "#using slice(lower,upper,step) function\n",
        "s = slice(2,7,2) \n",
        "print (arr[s])\n",
        "#or\n",
        "slice_arr = arr[2:7:2] \n",
        "print (slice_arr)\n",
        "\n",
        "x= np.array([11,12,13,14,15])\n",
        "print(np.take(x, [0, 3,4]))\n",
        "\n",
        "arr=np.arange(10)\n",
        "#Example-1\n",
        "print(arr[:5])\n",
        "#Example-2\n",
        "print(arr[5:])\n",
        "#Example-3\n",
        "print(arr[::2])"
      ],
      "metadata": {
        "colab": {
          "base_uri": "https://localhost:8080/"
        },
        "id": "yG3Dc-bSgsBl",
        "outputId": "13101dc2-b45e-421d-d3cf-ec79502d2d8a"
      },
      "execution_count": 27,
      "outputs": [
        {
          "output_type": "stream",
          "name": "stdout",
          "text": [
            "2\n",
            "[2 3 4]\n",
            "[2 3 4]\n",
            "[2 4 6]\n",
            "[2 4 6]\n",
            "[11 14 15]\n",
            "[0 1 2 3 4]\n",
            "[5 6 7 8 9]\n",
            "[0 2 4 6 8]\n"
          ]
        }
      ]
    },
    {
      "cell_type": "code",
      "source": [
        "import numpy as np \n",
        "arr = np.array([[1,2,3],[3,4,5],[4,5,6]])\n",
        "print (arr)\n",
        "#Slicing first row\n",
        "print (arr[0:1])\n",
        "#slicing last 2 rows\n",
        "print (arr[1:])\n",
        "#slicing three rows and first column\n",
        "print (arr[0:3,0:1])\n",
        "#slicing 4 from above array\n",
        "print (arr[1:2,1:2])"
      ],
      "metadata": {
        "colab": {
          "base_uri": "https://localhost:8080/"
        },
        "id": "UOH124GShOtA",
        "outputId": "c55e63fc-432f-47c0-b9ae-b0b717957847"
      },
      "execution_count": 28,
      "outputs": [
        {
          "output_type": "stream",
          "name": "stdout",
          "text": [
            "[[1 2 3]\n",
            " [3 4 5]\n",
            " [4 5 6]]\n",
            "[[1 2 3]]\n",
            "[[3 4 5]\n",
            " [4 5 6]]\n",
            "[[1]\n",
            " [3]\n",
            " [4]]\n",
            "[[4]]\n"
          ]
        }
      ]
    },
    {
      "cell_type": "code",
      "source": [
        "import numpy as np\n",
        "arr_1 = np.array([1, 2, 3])\n",
        "arr_2 = np.array([2, 3, 4])\n",
        "arr_stack=np.stack((arr_1,arr_2),axis=0)\n",
        "print(arr_stack)\n",
        "print(arr_stack.shape)\n",
        "\n",
        "arr_stack=np.stack((arr_1,arr_2),axis=1)\n",
        "print(arr_stack)\n",
        "print(arr_stack.shape)"
      ],
      "metadata": {
        "colab": {
          "base_uri": "https://localhost:8080/"
        },
        "id": "SZIokvD3hfZY",
        "outputId": "edc67171-9a3d-4dbe-a0da-85dafa14c2e9"
      },
      "execution_count": 29,
      "outputs": [
        {
          "output_type": "stream",
          "name": "stdout",
          "text": [
            "[[1 2 3]\n",
            " [2 3 4]]\n",
            "(2, 3)\n",
            "[[1 2]\n",
            " [2 3]\n",
            " [3 4]]\n",
            "(3, 2)\n"
          ]
        }
      ]
    },
    {
      "cell_type": "code",
      "source": [
        "# Generate random arrays\n",
        "arr_1 = np.random.randint(10, size=(2, 2))\n",
        "print(\" arr_1\\n\", arr_1)\n",
        "arr_2 = np.random.randint(10, size=(2, 2))\n",
        "print(\" arr_2\\n\", arr_2)\n",
        "\n",
        "# Stack arr_2 under arr_1\n",
        "a=np.vstack((arr_1, arr_2))\n",
        "print(a)\n",
        "\n",
        "# Stacking  horizontally\n",
        "b=np.hstack((arr_1, arr_2))\n",
        "print(b)\n",
        "\n",
        "#stacking depth wise\n",
        "c=np.dstack((arr_1, arr_2))\n",
        "print(c)\n",
        "\n",
        "# row_stack()\n",
        "a=np.row_stack((arr_1, arr_2))\n",
        "print(a)\n",
        "\n",
        "# column_stack()\n",
        "b=np.column_stack((arr_1, arr_2))\n",
        "print(b)"
      ],
      "metadata": {
        "colab": {
          "base_uri": "https://localhost:8080/"
        },
        "id": "sCcNs52ehpAY",
        "outputId": "3cd83473-d29c-433f-f6e5-deb2f85035d8"
      },
      "execution_count": 31,
      "outputs": [
        {
          "output_type": "stream",
          "name": "stdout",
          "text": [
            " arr_1\n",
            " [[6 9]\n",
            " [5 8]]\n",
            " arr_2\n",
            " [[3 0]\n",
            " [4 0]]\n",
            "[[6 9]\n",
            " [5 8]\n",
            " [3 0]\n",
            " [4 0]]\n",
            "[[6 9 3 0]\n",
            " [5 8 4 0]]\n",
            "[[[6 3]\n",
            "  [9 0]]\n",
            "\n",
            " [[5 4]\n",
            "  [8 0]]]\n",
            "[[6 9]\n",
            " [5 8]\n",
            " [3 0]\n",
            " [4 0]]\n",
            "[[6 9 3 0]\n",
            " [5 8 4 0]]\n"
          ]
        }
      ]
    },
    {
      "cell_type": "code",
      "source": [
        "x = np.arange(9.0)\n",
        "np.split(x, 3)\n",
        "\n",
        "x = np.arange(8.0)\n",
        "np.array_split(x, 3)\n",
        "\n",
        "x = np.arange(7.0)\n",
        "np.array_split(x, 3)"
      ],
      "metadata": {
        "colab": {
          "base_uri": "https://localhost:8080/"
        },
        "id": "7MdFxa3Bh8jx",
        "outputId": "0c9c1ecf-f780-4b1e-edac-ea35282c259d"
      },
      "execution_count": 32,
      "outputs": [
        {
          "output_type": "execute_result",
          "data": {
            "text/plain": [
              "[array([0., 1., 2.]), array([3., 4.]), array([5., 6.])]"
            ]
          },
          "metadata": {},
          "execution_count": 32
        }
      ]
    },
    {
      "cell_type": "code",
      "source": [
        "arr_1 = np.arange(16.0).reshape(4, 4)\n",
        "arr_1\n",
        "\n",
        "np.hsplit(arr_1, 2)\n",
        "\n",
        "np.hsplit(arr_1, np.array([3, 6]))\n",
        "\n",
        "arr_1= np.arange(16.0).reshape(4, 4)\n",
        "arr_1\n",
        "\n",
        "np.vsplit(arr_1, 2)\n",
        "\n",
        "np.vsplit(arr_1, np.array([3, 6]))"
      ],
      "metadata": {
        "colab": {
          "base_uri": "https://localhost:8080/"
        },
        "id": "mphPGBmeiFZA",
        "outputId": "3a16575a-e1e2-4cd3-ff57-a33c3406c03a"
      },
      "execution_count": 34,
      "outputs": [
        {
          "output_type": "execute_result",
          "data": {
            "text/plain": [
              "[array([[ 0.,  1.,  2.,  3.],\n",
              "        [ 4.,  5.,  6.,  7.],\n",
              "        [ 8.,  9., 10., 11.]]),\n",
              " array([[12., 13., 14., 15.]]),\n",
              " array([], shape=(0, 4), dtype=float64)]"
            ]
          },
          "metadata": {},
          "execution_count": 34
        }
      ]
    },
    {
      "cell_type": "code",
      "source": [
        "import numpy as np\n",
        "arr_3 = np.array([1, 2, 3, 4])\n",
        "arr_4 = np.array([2, 4, 6, 8])\n",
        "# Add values\n",
        "print(arr_3 + arr_4)\n",
        "#or\n",
        "np.add(arr_3 ,arr_4)\n",
        "\n",
        "# Subtract\n",
        "print(arr_3 - arr_4)\n",
        "#or\n",
        "np.subtract(arr_3 ,arr_4)\n",
        "\n",
        "# Multiply\n",
        "print(arr_3 * arr_4)\n",
        "#or\n",
        "np.multiply(arr_3 ,arr_4)\n",
        "\n",
        "# Divide\n",
        "print(arr_3 / arr_4)\n",
        "#or\n",
        "np.divide(arr_3,arr_4)\n",
        "\n",
        "#Random 2 by 3 digit 2D array between 0 to 100\n",
        "arr_6 =np.random.randint(100, size=(2, 3))\n",
        "print(arr_6)\n",
        "\n",
        "# Sum of values in array\n",
        "a=arr_3.sum()\n",
        "print(a)\n",
        "\n",
        "# Sum columns\n",
        "c=arr_6.sum(axis=0)\n",
        "print(c)\n",
        "\n",
        "# Cumulative sum of rows\n",
        "b=arr_6.cumsum(axis=1)\n",
        "print(b)"
      ],
      "metadata": {
        "colab": {
          "base_uri": "https://localhost:8080/"
        },
        "id": "9W2PofAcif-d",
        "outputId": "e43744ba-00af-4c96-e8eb-8b929af65519"
      },
      "execution_count": 35,
      "outputs": [
        {
          "output_type": "stream",
          "name": "stdout",
          "text": [
            "[ 3  6  9 12]\n",
            "[-1 -2 -3 -4]\n",
            "[ 2  8 18 32]\n",
            "[0.5 0.5 0.5 0.5]\n",
            "[[23 75 91]\n",
            " [30 29 26]]\n",
            "10\n",
            "[ 53 104 117]\n",
            "[[ 23  98 189]\n",
            " [ 30  59  85]]\n"
          ]
        }
      ]
    },
    {
      "cell_type": "code",
      "source": [
        "arr=np.array([[62, 96, 50],\n",
        "       [87, 26, 42]])\n",
        "# Min of each row\n",
        "print(arr.min(axis=1))\n",
        "\n",
        "# Max of each column\n",
        "print(arr.max(axis=0))\n",
        "\n",
        "print(np.absolute([-1, -2]))\n",
        "\n",
        "arr_5 = np.array([[1, 2], [3, 4]])\n",
        "arr_6 = np.array([[2, 4], [6, 9]])\n",
        "# Return values in 1st array to powers defined in 2nd array\n",
        "print(np.power(arr_5, arr_6))\n",
        "\n",
        "arr_3 = np.array([1, 2, 3, 4])\n",
        "#Square Root\n",
        "print(np.sqrt(arr_3))\n",
        "\n",
        "#Cube Root\n",
        "print(np.cbrt(arr_3))\n",
        "\n",
        "arr_3 = np.array([1, 2, 3, 4])\n",
        "#Exponential of all elements in array\n",
        "print(np.exp(arr_3))\n",
        "\n",
        "print(np.log(arr_3))\n",
        "\n",
        "print(np.log2(arr_3))\n",
        "\n",
        "print(np.log10(arr_3))\n",
        "\n",
        "print(np.gcd.reduce([9, 12, 15]))"
      ],
      "metadata": {
        "colab": {
          "base_uri": "https://localhost:8080/"
        },
        "id": "C96ub7b6jRIR",
        "outputId": "beb3392b-c722-4090-f165-097974a3ead8"
      },
      "execution_count": 36,
      "outputs": [
        {
          "output_type": "stream",
          "name": "stdout",
          "text": [
            "[50 26]\n",
            "[87 96 50]\n",
            "[1 2]\n",
            "[[     1     16]\n",
            " [   729 262144]]\n",
            "[1.         1.41421356 1.73205081 2.        ]\n",
            "[1.         1.25992105 1.44224957 1.58740105]\n",
            "[ 2.71828183  7.3890561  20.08553692 54.59815003]\n",
            "[0.         0.69314718 1.09861229 1.38629436]\n",
            "[0.        1.        1.5849625 2.       ]\n",
            "[0.         0.30103    0.47712125 0.60205999]\n",
            "3\n"
          ]
        }
      ]
    },
    {
      "cell_type": "code",
      "source": [
        "# Round down\n",
        "print(np.floor([1.2, 2.5]))\n",
        "\n",
        "# Round up\n",
        "print(np.ceil([1.2, 2.5]))"
      ],
      "metadata": {
        "colab": {
          "base_uri": "https://localhost:8080/"
        },
        "id": "TkcYVVO6jvR-",
        "outputId": "c738bbf8-f723-478e-9b57-ff43263e1b5c"
      },
      "execution_count": 37,
      "outputs": [
        {
          "output_type": "stream",
          "name": "stdout",
          "text": [
            "[1. 2.]\n",
            "[2. 3.]\n"
          ]
        }
      ]
    },
    {
      "cell_type": "code",
      "source": [
        "import numpy as np\n",
        "import matplotlib.pyplot as plt\n",
        "# Generate array of 200 values between -pi & pi\n",
        "t_arr = np.linspace(-2*np.pi, 2*np.pi, 200)\n",
        "fig = plt.figure()\n",
        "ax = plt.axes()\n",
        "ax.grid(color='black', linestyle='-', linewidth=2,alpha=0.1)\n",
        "# Plotting Sin(X)\n",
        "plt.plot(t_arr, np.sin(t_arr),color='black') # SIN\n",
        "plt.title(\"sin(x)\")\n",
        "# Display plot\n",
        "plt.show()\n",
        "\n",
        "#plotting cos(x)\n",
        "plt.plot(t_arr, np.cos(t_arr),color='darkorange') # COS\n",
        "plt.title(\"cos(x)\")\n",
        "\n",
        "#plotting tan(x)\n",
        "plt.plot(t_arr, np.tan(t_arr),color='skyblue') # TAN\n",
        "plt.title(\"tan(x)\")\n",
        "\n",
        "plt.plot(t_arr, np.sin(t_arr),color='black',label='sin(x)') # SIN\n",
        "plt.plot(t_arr, np.cos(t_arr),color='darkorange',label='cos(x)') # COS\n",
        "plt.plot(t_arr, np.tan(t_arr),color='skyblue',label='tan(x)') # TAN\n",
        "plt.legend(loc='best')\n",
        "plt.show()\n",
        "\n",
        "# Provides inverse \n",
        "print(np.arcsin(1))\n",
        "print(np.arccos(1))\n",
        "print(np.arctan(0))\n",
        "\n",
        "# Radians to degrees\n",
        "print(np.rad2deg(np.pi))\n",
        "\n",
        "# Degrees to radians\n",
        "print(np.deg2rad(180))"
      ],
      "metadata": {
        "colab": {
          "base_uri": "https://localhost:8080/",
          "height": 632
        },
        "id": "q9wBNFMAj8we",
        "outputId": "11e6c4e1-765e-485d-8707-61db25366a75"
      },
      "execution_count": 38,
      "outputs": [
        {
          "output_type": "display_data",
          "data": {
            "text/plain": [
              "<Figure size 432x288 with 1 Axes>"
            ],
            "image/png": "[encoded data removed]"
          },
          "metadata": {
            "needs_background": "light"
          }
        },
        {
          "output_type": "display_data",
          "data": {
            "text/plain": [
              "<Figure size 432x288 with 1 Axes>"
            ],
            "image/png": "[encoded data removed]"
          },
          "metadata": {
            "needs_background": "light"
          }
        },
        {
          "output_type": "stream",
          "name": "stdout",
          "text": [
            "1.5707963267948966\n",
            "0.0\n",
            "0.0\n",
            "180.0\n",
            "3.141592653589793\n"
          ]
        }
      ]
    },
    {
      "cell_type": "code",
      "source": [
        "arr_1 = np.arange(1, 6)\n",
        "print(arr_1)\n",
        "\n",
        "#mean\n",
        "print(np.mean(arr_1))\n",
        "\n",
        "#median\n",
        "print(np.median(arr_1))\n",
        "\n",
        "#average\n",
        "print(np.average(arr_1))\n",
        "\n",
        "# Standard Deviation\n",
        "print(np.std([4, 6, 3, 5, 2]))\n",
        "\n",
        "#variance\n",
        "print(np.var([4, 6, 3, 5, 2]))"
      ],
      "metadata": {
        "colab": {
          "base_uri": "https://localhost:8080/"
        },
        "id": "Ejhhl3FRkT9s",
        "outputId": "ec9f2ece-5949-4696-9b0b-196aa78888e2"
      },
      "execution_count": 39,
      "outputs": [
        {
          "output_type": "stream",
          "name": "stdout",
          "text": [
            "[1 2 3 4 5]\n",
            "3.0\n",
            "3.0\n",
            "3.0\n",
            "1.4142135623730951\n",
            "2.0\n"
          ]
        }
      ]
    },
    {
      "cell_type": "code",
      "source": [
        "import numpy as np\n",
        "import matplotlib.pyplot as plt\n",
        "from mpl_toolkits.mplot3d import Axes3D\n",
        "v3=[ 4, 6 , 7 ]\n",
        "v2= [ 4 ,7 ,9 ]\n",
        "v3t = np.transpose(v3)\n",
        "print(v3t)\n",
        "\n",
        "#taking 2 vectors of same dimention\n",
        "v1 = np.array([ 2 ,6 ])\n",
        "v2 = np.array([ 5 ,7 ])\n",
        "v3 = v1+v2 #Addition\n",
        "print(v3)\n",
        "\n",
        "v4 = v2-v1 #Subtraction\n",
        "print(v4)\n",
        "\n",
        "# VECTOR SCALAR PRODUCT\n",
        "v1 = np.array([ 9 ,2 ]) \n",
        "c= 0.7\n",
        "v2= c*v1\n",
        "print(v2)\n",
        "\n",
        "# dot product \n",
        "v1 = np.array([ 4 ,3 ,9 ])\n",
        "v2 = np.array([ 1 ,2 ,3 ])\n",
        "#method 1\n",
        "D_P1 = sum( np.multiply(v1,v2)  )\n",
        "print(D_P1)\n",
        "#method 2\n",
        "D_P2 = np.dot( v1,v2 )\n",
        "print(D_P2)\n",
        "#method 3\n",
        "D_P3= np.matmul( v1,v2 )\n",
        "print(D_P3)\n",
        "\n",
        "# create vectors\n",
        "w1 = [ 1, 3, 5 ]\n",
        "w2 = [ 3, 4, 2 ]\n",
        "w3 = np.multiply(w1,w2)\n",
        "print(w3)\n",
        "\n",
        "v1 = np.array([3,9,9])\n",
        "v2 = np.array([2,3,4])\n",
        "v3 = np.cross (v1,v2)\n",
        "print (v3)\n",
        "\n",
        "#  vector \n",
        "v1 = np.array([ 3,4,6 ])\n",
        "# example method 1\n",
        "vl = np.sqrt( sum( np.multiply(v1,v1)) )\n",
        "#or\n",
        "# method 2: take the norm\n",
        "vl = np.linalg.norm(v1)\n",
        "print(vl)"
      ],
      "metadata": {
        "colab": {
          "base_uri": "https://localhost:8080/"
        },
        "id": "iWD0A4Emkpi_",
        "outputId": "b5f54eba-939c-4a77-880a-9b30b6f99734"
      },
      "execution_count": 40,
      "outputs": [
        {
          "output_type": "stream",
          "name": "stdout",
          "text": [
            "[4 6 7]\n",
            "[ 7 13]\n",
            "[3 1]\n",
            "[6.3 1.4]\n",
            "37\n",
            "37\n",
            "37\n",
            "[ 3 12 10]\n",
            "[ 9  6 -9]\n",
            "7.810249675906654\n"
          ]
        }
      ]
    }
  ]
}